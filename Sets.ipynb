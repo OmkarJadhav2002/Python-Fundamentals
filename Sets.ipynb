{
 "cells": [
  {
   "cell_type": "markdown",
   "id": "f17bd4e1",
   "metadata": {},
   "source": [
    "## Sets\n",
    "* unorderd collection of items\n",
    "* every element in set is unique, cannot contain duplicates \n",
    "* Charecteristics:\n",
    "    * Unordered \n",
    "    * Mutable \n",
    "    * No duplicates \n",
    "    * Cannot have mutable data typles"
   ]
  },
  {
   "cell_type": "markdown",
   "id": "1bc1b5d4",
   "metadata": {},
   "source": [
    "### Creating sets "
   ]
  },
  {
   "cell_type": "code",
   "execution_count": 15,
   "id": "5e672f63",
   "metadata": {},
   "outputs": [
    {
     "name": "stdout",
     "output_type": "stream",
     "text": [
      "<class 'dict'>\n",
      "<class 'dict'>\n",
      "{1, (1, 2), 'Omkar'}\n",
      "True\n"
     ]
    }
   ],
   "source": [
    "# empty set \n",
    "s = {}\n",
    "print(type(s)) # dictionary and set shares same syntax (default dict)\n",
    "\n",
    "# this is the syntax to create set \n",
    "s1 = set()\n",
    "print(type(s))\n",
    "\n",
    "# s2 = {1, 2, 3, {3, 4}}\n",
    "# print(s2) # cannot have mutable types inside sets \n",
    "\n",
    "s3 = {1, True, (1, 2), \"Omkar\"}\n",
    "print(s3) # True: 1\n",
    "\n",
    "# As content in both sets is same \n",
    "s4 = {1, 2, 3}\n",
    "s5 = {3, 1, 2}\n",
    "print(s4==s5)"
   ]
  },
  {
   "cell_type": "markdown",
   "id": "6e5e2ac2",
   "metadata": {},
   "source": [
    "### Accessing Items\n",
    "* indexing and slicing is not possible (hashing concept)"
   ]
  },
  {
   "cell_type": "markdown",
   "id": "ca1826cc",
   "metadata": {},
   "source": [
    "### Editing Items\n",
    "* not possible as indexing is not possible "
   ]
  },
  {
   "cell_type": "markdown",
   "id": "84b4baec",
   "metadata": {},
   "source": [
    "### Adding Items \n",
    "* add()\n",
    "* update()"
   ]
  },
  {
   "cell_type": "code",
   "execution_count": 20,
   "id": "5c447c2c",
   "metadata": {},
   "outputs": [
    {
     "name": "stdout",
     "output_type": "stream",
     "text": [
      "{1, 2, 3, 4, 5}\n",
      "{1, 2, 3, 4, 5, 6, 7, 8}\n"
     ]
    }
   ],
   "source": [
    "s = {1, 2, 3, 4}\n",
    "# add()\n",
    "s.add(5)\n",
    "print(s)\n",
    "\n",
    "# add multiple items \n",
    "s.update([6, 7, 8])\n",
    "print(s)"
   ]
  },
  {
   "cell_type": "markdown",
   "id": "a4d71d49",
   "metadata": {},
   "source": [
    "### Deleting Items \n",
    "* del()\n",
    "* discard()\n",
    "* remove()\n",
    "* pop()\n",
    "* clear()"
   ]
  },
  {
   "cell_type": "code",
   "execution_count": 38,
   "id": "bca49e67",
   "metadata": {},
   "outputs": [
    {
     "name": "stdout",
     "output_type": "stream",
     "text": [
      "{1, 2, 3}\n",
      "set()\n"
     ]
    }
   ],
   "source": [
    "# s = {1, 2}\n",
    "# del \n",
    "# del s\n",
    "# print(s)\n",
    "\n",
    "s = {1, 2, 3}\n",
    "s.discard(50) # does not throw error\n",
    "print(s)\n",
    "\n",
    "# s.remove(30) # throws error \n",
    " \n",
    "# pop random items \n",
    "s.pop()\n",
    "\n",
    "# clear tht entire set \n",
    "s.clear()\n",
    "print(s)"
   ]
  },
  {
   "cell_type": "markdown",
   "id": "6744fb6f",
   "metadata": {},
   "source": [
    "### Set Operations \n",
    "* Union (|)\n",
    "* intersection (&)\n",
    "* difference \n",
    "* symmetric difference (^): other than common  \n",
    "* membership \n",
    "* iteration/loop"
   ]
  },
  {
   "cell_type": "markdown",
   "id": "0c39731b",
   "metadata": {},
   "source": [
    "### Set functions \n",
    "* len()\n",
    "* sum()\n",
    "* min()\n",
    "* max()\n",
    "* sorted()\n",
    "* union()\n",
    "* update() "
   ]
  },
  {
   "cell_type": "code",
   "execution_count": 40,
   "id": "52f888fd",
   "metadata": {},
   "outputs": [
    {
     "name": "stdout",
     "output_type": "stream",
     "text": [
      "{1, 2, 3, 4, 5, 6, 7, 8}\n",
      "{4, 5, 6, 7, 8}\n"
     ]
    }
   ],
   "source": [
    "# union/update \n",
    "s1 = {1, 2, 3}\n",
    "s2 = {4, 5, 6, 7, 8}\n",
    "\n",
    "s1.update(s2)\n",
    "print(s1)\n",
    "print(s2)"
   ]
  },
  {
   "cell_type": "code",
   "execution_count": 43,
   "id": "6683c903",
   "metadata": {},
   "outputs": [
    {
     "name": "stdout",
     "output_type": "stream",
     "text": [
      "{4, 5}\n",
      "{4, 5, 6, 7, 8}\n"
     ]
    }
   ],
   "source": [
    "# intersection/intersection_update\n",
    "s1 = {1, 2, 3, 4, 5}\n",
    "s2 = {4, 5, 6, 7, 8}\n",
    "\n",
    "s1.intersection(s2)\n",
    "\n",
    "s1.intersection_update(s2)\n",
    "print(s1)\n",
    "print(s2)"
   ]
  },
  {
   "cell_type": "code",
   "execution_count": 48,
   "id": "8794599e",
   "metadata": {},
   "outputs": [
    {
     "name": "stdout",
     "output_type": "stream",
     "text": [
      "False\n",
      "True\n",
      "True\n"
     ]
    }
   ],
   "source": [
    "# isdisjoint/isubset/issuperset\n",
    "s1 = {1, 2, 3, 4}\n",
    "s2 = {7, 8, 5, 6, 1, 2, 3, 4}\n",
    "\n",
    "print(s1.isdisjoint(s2))\n",
    "print(s1.issubset(s2))\n",
    "print(s2.issuperset(s1))"
   ]
  },
  {
   "cell_type": "markdown",
   "id": "74dd1792",
   "metadata": {},
   "source": [
    "### Frozenset\n",
    "* immutable version of python set "
   ]
  },
  {
   "cell_type": "code",
   "execution_count": 55,
   "id": "65e95d63",
   "metadata": {},
   "outputs": [
    {
     "data": {
      "text/plain": [
       "frozenset({1, 2, 3})"
      ]
     },
     "execution_count": 55,
     "metadata": {},
     "output_type": "execute_result"
    }
   ],
   "source": [
    "fs = frozenset([1, 2, 3])\n",
    "fs"
   ]
  },
  {
   "cell_type": "code",
   "execution_count": 56,
   "id": "f549009b",
   "metadata": {},
   "outputs": [
    {
     "ename": "AttributeError",
     "evalue": "'frozenset' object has no attribute 'add'",
     "output_type": "error",
     "traceback": [
      "\u001b[1;31m---------------------------------------------------------------------------\u001b[0m",
      "\u001b[1;31mAttributeError\u001b[0m                            Traceback (most recent call last)",
      "Input \u001b[1;32mIn [56]\u001b[0m, in \u001b[0;36m<cell line: 1>\u001b[1;34m()\u001b[0m\n\u001b[1;32m----> 1\u001b[0m \u001b[43mfs\u001b[49m\u001b[38;5;241;43m.\u001b[39;49m\u001b[43madd\u001b[49m(\u001b[38;5;241m23\u001b[39m)\n",
      "\u001b[1;31mAttributeError\u001b[0m: 'frozenset' object has no attribute 'add'"
     ]
    }
   ],
   "source": [
    "fs.add(23)"
   ]
  },
  {
   "cell_type": "markdown",
   "id": "5a242046",
   "metadata": {},
   "source": [
    "### Set comprehension "
   ]
  },
  {
   "cell_type": "code",
   "execution_count": 57,
   "id": "5178b5d1",
   "metadata": {},
   "outputs": [
    {
     "data": {
      "text/plain": [
       "{6, 7, 8, 9, 10}"
      ]
     },
     "execution_count": 57,
     "metadata": {},
     "output_type": "execute_result"
    }
   ],
   "source": [
    "{i for i in range(1, 11) if i>5}"
   ]
  },
  {
   "cell_type": "code",
   "execution_count": null,
   "id": "bd2d5227",
   "metadata": {},
   "outputs": [],
   "source": []
  }
 ],
 "metadata": {
  "kernelspec": {
   "display_name": "Python 3 (ipykernel)",
   "language": "python",
   "name": "python3"
  },
  "language_info": {
   "codemirror_mode": {
    "name": "ipython",
    "version": 3
   },
   "file_extension": ".py",
   "mimetype": "text/x-python",
   "name": "python",
   "nbconvert_exporter": "python",
   "pygments_lexer": "ipython3",
   "version": "3.10.4"
  }
 },
 "nbformat": 4,
 "nbformat_minor": 5
}

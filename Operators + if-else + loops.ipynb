{
 "cells": [
  {
   "cell_type": "markdown",
   "id": "42f3eed9",
   "metadata": {},
   "source": [
    "### Operators\n",
    "* when you want to perform operations/want to change between operands, to perform that operation or change we use operators"
   ]
  },
  {
   "cell_type": "markdown",
   "id": "3943a19f",
   "metadata": {},
   "source": [
    "#### 1. Arithmetic Operators"
   ]
  },
  {
   "cell_type": "code",
   "execution_count": 1,
   "id": "e55ed5ad",
   "metadata": {},
   "outputs": [
    {
     "name": "stdout",
     "output_type": "stream",
     "text": [
      "11\n",
      "-1\n",
      "20\n",
      "2.5\n",
      "1\n",
      "1\n",
      "25\n"
     ]
    }
   ],
   "source": [
    "print(5+6)\n",
    "print(9-10)\n",
    "print(5*4)\n",
    "print(5/2)\n",
    "print(6//5) # integer division\n",
    "print(5%2) # gives remainder(modulus)\n",
    "print(5**2) # power of operator"
   ]
  },
  {
   "cell_type": "markdown",
   "id": "42d7e2df",
   "metadata": {},
   "source": [
    "#### 2. Relational Operators"
   ]
  },
  {
   "cell_type": "code",
   "execution_count": 2,
   "id": "f13c6694",
   "metadata": {},
   "outputs": [
    {
     "name": "stdout",
     "output_type": "stream",
     "text": [
      "True\n",
      "False\n",
      "True\n",
      "False\n",
      "False\n",
      "True\n"
     ]
    }
   ],
   "source": [
    "print(4<5)\n",
    "print(4>5)\n",
    "print(4<=5)\n",
    "print(4>=5)\n",
    "print(4==5)\n",
    "print(4!=5)"
   ]
  },
  {
   "cell_type": "markdown",
   "id": "7ddd7033",
   "metadata": {},
   "source": [
    "#### 3. Logical Operators"
   ]
  },
  {
   "cell_type": "code",
   "execution_count": 3,
   "id": "74c24505",
   "metadata": {},
   "outputs": [
    {
     "name": "stdout",
     "output_type": "stream",
     "text": [
      "0\n",
      "1\n",
      "True\n"
     ]
    }
   ],
   "source": [
    "# and, or, not\n",
    "print(1 and 0)\n",
    "print(1 or 1)\n",
    "print(not 0)"
   ]
  },
  {
   "cell_type": "markdown",
   "id": "8fc8c82a",
   "metadata": {},
   "source": [
    "#### 4. Bitwise Operators"
   ]
  },
  {
   "cell_type": "code",
   "execution_count": 4,
   "id": "0cdc6185",
   "metadata": {},
   "outputs": [
    {
     "name": "stdout",
     "output_type": "stream",
     "text": [
      "2\n",
      "3\n",
      "1\n",
      "-4\n",
      "1\n",
      "20\n"
     ]
    }
   ],
   "source": [
    "# bitwise and\n",
    "print(2 & 3)\n",
    "\n",
    "# bitwise or\n",
    "print(2 | 3)\n",
    "\n",
    "# bitwise xor\n",
    "print(2 ^ 3)\n",
    "\n",
    "# bitwise not\n",
    "print(~3)\n",
    "\n",
    "# bitwise left\n",
    "print(4 >> 2)\n",
    "\n",
    "# bitwise right\n",
    "print(5 << 2)"
   ]
  },
  {
   "cell_type": "markdown",
   "id": "b58c7bb6",
   "metadata": {},
   "source": [
    "#### 5. Assignement Opearators\n",
    "* = (equal to operator)"
   ]
  },
  {
   "cell_type": "code",
   "execution_count": 5,
   "id": "f24713b5",
   "metadata": {},
   "outputs": [
    {
     "name": "stdout",
     "output_type": "stream",
     "text": [
      "20\n",
      "Omii\n"
     ]
    }
   ],
   "source": [
    "a = 2\n",
    "a *= 10\n",
    "print(a)\n",
    "\n",
    "s = \"Omi\"\n",
    "s += \"i\"\n",
    "print(s)"
   ]
  },
  {
   "cell_type": "markdown",
   "id": "b036e9c6",
   "metadata": {},
   "source": [
    "#### 6. Membership Operators\n",
    "* in\n",
    "* not in"
   ]
  },
  {
   "cell_type": "code",
   "execution_count": 6,
   "id": "5deca96a",
   "metadata": {},
   "outputs": [
    {
     "name": "stdout",
     "output_type": "stream",
     "text": [
      "True\n",
      "False\n"
     ]
    }
   ],
   "source": [
    "print (\"O\" in \"Omii\")\n",
    "\n",
    "print(\"O\" not in \"Omii\")"
   ]
  },
  {
   "cell_type": "code",
   "execution_count": 8,
   "id": "78bb102c",
   "metadata": {},
   "outputs": [
    {
     "name": "stdout",
     "output_type": "stream",
     "text": [
      "Enter the number: 12\n",
      "3\n"
     ]
    }
   ],
   "source": [
    "# Program to find the sum of 3 digit number entered by user\n",
    "\n",
    "# a, b, c = map(int, input(\"Enter the numbers: \").split())\n",
    "# print(a+b+c)\n",
    "\n",
    "num = int(input(\"Enter the number: \"))\n",
    "# rem = 0\n",
    "sum = 0\n",
    "while num != 0:\n",
    "    rem = num%10\n",
    "    sum += rem\n",
    "    num = num//10\n",
    "    \n",
    "print(sum)"
   ]
  },
  {
   "cell_type": "markdown",
   "id": "be45de5e",
   "metadata": {},
   "source": [
    "### if-else in Python\n",
    "* when there is more than one possibility\n",
    "* branching "
   ]
  },
  {
   "cell_type": "code",
   "execution_count": 11,
   "id": "781d8ced",
   "metadata": {},
   "outputs": [
    {
     "name": "stdout",
     "output_type": "stream",
     "text": [
      "Enter your email: omkar123@gmail.com\n",
      "Enter password: 12\n",
      "Incorrect Password.\n",
      "Enter correct password: 1234\n",
      "Login Successful.\n"
     ]
    }
   ],
   "source": [
    "# login program and indentation\n",
    "email = input(\"Enter your email: \")\n",
    "password = input(\"Enter password: \")\n",
    "\n",
    "if email == \"omkar123@gmail.com\" and password == \"1234\":\n",
    "    print(\"Login Successful.\")\n",
    "elif email == \"omkar123@gmail.com\" and password != \"1234\":\n",
    "    print(\"Incorrect Password.\")\n",
    "    password = input(\"Enter correct password: \")\n",
    "    if password == \"1234\":\n",
    "        print(\"Login Successful.\")\n",
    "else:\n",
    "    print(\"Login Unsuccessful.\")"
   ]
  },
  {
   "cell_type": "code",
   "execution_count": 15,
   "id": "3a25ed2b",
   "metadata": {},
   "outputs": [
    {
     "name": "stdout",
     "output_type": "stream",
     "text": [
      "Enter three numbers: 6 2 1\n",
      "Smallest is c\n"
     ]
    }
   ],
   "source": [
    "# program to find min of 3 numbers\n",
    "a, b, c = map(int, input(\"Enter three numbers: \").split())\n",
    "\n",
    "if a < b and a < c:\n",
    "    print(\"Smallest is a\")\n",
    "elif b < a and b < c:\n",
    "    print(\"Smallesst is b\")\n",
    "elif c < a and c < b:\n",
    "    print(\"Smallest is c\")\n",
    "else:\n",
    "    print(\"All numbers are same.\")"
   ]
  },
  {
   "cell_type": "code",
   "execution_count": 17,
   "id": "071bc7ba",
   "metadata": {},
   "outputs": [
    {
     "name": "stdout",
     "output_type": "stream",
     "text": [
      "Enter the first number: 1\n",
      "Enter the second number: 1\n",
      "Enter the operation: +\n",
      "2\n"
     ]
    }
   ],
   "source": [
    "# menu driven program (you can make menu driven programs using if-else)\n",
    "num1 = int(input(\"Enter the first number: \"))\n",
    "num2 = int(input(\"Enter the second number: \"))\n",
    "\n",
    "oper = input(\"Enter the operation: \")\n",
    "if oper == '+':\n",
    "    print(num1 + num2)\n",
    "elif oper == '-':\n",
    "    print(num1 - num2)\n",
    "elif oper == '*':\n",
    "    print(num1*num2)\n",
    "else:\n",
    "    print(num1/num2)"
   ]
  },
  {
   "cell_type": "markdown",
   "id": "377ff443",
   "metadata": {},
   "source": [
    "### Modules in Python\n",
    "* basically a python file that contains predefined functions and you can simply reuse that functions by importing these files (modules)\n",
    "\n",
    "\n",
    "* math\n",
    "* keywords\n",
    "* random\n",
    "* datetime"
   ]
  },
  {
   "cell_type": "code",
   "execution_count": 1,
   "id": "4c91b75a",
   "metadata": {},
   "outputs": [
    {
     "name": "stdout",
     "output_type": "stream",
     "text": [
      "120\n",
      "4\n"
     ]
    }
   ],
   "source": [
    "# math\n",
    "import math\n",
    "\n",
    "print(math.factorial(5))\n",
    "print(math.floor(4.5))"
   ]
  },
  {
   "cell_type": "code",
   "execution_count": 2,
   "id": "cf210d0e",
   "metadata": {},
   "outputs": [
    {
     "name": "stdout",
     "output_type": "stream",
     "text": [
      "['False', 'None', 'True', 'and', 'as', 'assert', 'async', 'await', 'break', 'class', 'continue', 'def', 'del', 'elif', 'else', 'except', 'finally', 'for', 'from', 'global', 'if', 'import', 'in', 'is', 'lambda', 'nonlocal', 'not', 'or', 'pass', 'raise', 'return', 'try', 'while', 'with', 'yield']\n"
     ]
    }
   ],
   "source": [
    "# keyword (reserved words by the compiler)\n",
    "import keyword\n",
    "\n",
    "print(keyword.kwlist)"
   ]
  },
  {
   "cell_type": "code",
   "execution_count": 4,
   "id": "c34891d9",
   "metadata": {},
   "outputs": [
    {
     "name": "stdout",
     "output_type": "stream",
     "text": [
      "85\n"
     ]
    }
   ],
   "source": [
    "# random\n",
    "import random\n",
    "\n",
    "print(random.randint(1, 100))"
   ]
  },
  {
   "cell_type": "code",
   "execution_count": 5,
   "id": "57fe9ac3",
   "metadata": {},
   "outputs": [
    {
     "name": "stdout",
     "output_type": "stream",
     "text": [
      "2023-05-08 15:13:53.286679\n"
     ]
    }
   ],
   "source": [
    "# datetime\n",
    "import datetime\n",
    "\n",
    "print(datetime.datetime.now())"
   ]
  },
  {
   "cell_type": "code",
   "execution_count": 8,
   "id": "d7cce72c",
   "metadata": {},
   "outputs": [],
   "source": [
    "# help(\"modules\")"
   ]
  },
  {
   "cell_type": "markdown",
   "id": "4e02ffa2",
   "metadata": {},
   "source": [
    "### Loops in Python\n",
    "\n",
    "* entity by using you can repeat things(piece of code)\n",
    "\n",
    "**Need of loop?**\n",
    "* `Example`: Amazon Website (suppose you want a product and you search for it, suppose you search for phone you get the results, results are in the format of sections/containers(this section contains images of the phone, this section contains description/configuration of the phone) so to display each phone you don't write code to show this format for each phone you simply fetch the data of each phone from database and put it in `loop`)  \n",
    "* to display information (e.g. zomato, ecommerce websites)\n",
    "\n",
    "\n",
    "\n",
    "\n",
    "\n",
    "* 1. for loop\n",
    "* 2. while loop"
   ]
  },
  {
   "cell_type": "markdown",
   "id": "b3aafd5f",
   "metadata": {},
   "source": [
    "#### 1. while loop"
   ]
  },
  {
   "cell_type": "code",
   "execution_count": 5,
   "id": "f365b089",
   "metadata": {},
   "outputs": [
    {
     "name": "stdout",
     "output_type": "stream",
     "text": [
      "1\n",
      "2\n",
      "Limit crossed.\n"
     ]
    }
   ],
   "source": [
    "# while loop with else\n",
    "x = 1\n",
    "while x<3:\n",
    "    print(x)\n",
    "    x += 1\n",
    "    \n",
    "else:\n",
    "    print(\"Limit crossed.\")"
   ]
  },
  {
   "cell_type": "code",
   "execution_count": 1,
   "id": "a3417648",
   "metadata": {},
   "outputs": [
    {
     "name": "stdout",
     "output_type": "stream",
     "text": [
      "Guess karo: 90\n",
      "ERROR! Guess lower\n",
      "Guess karo: 12\n",
      "Guess higher\n",
      "Guess karo: 78\n",
      "ERROR! Guess lower\n",
      "Guess karo: 65\n",
      "Guess higher\n",
      "Guess karo: 89\n",
      "ERROR! Guess lower\n",
      "Guess karo: 67\n",
      "Guess higher\n",
      "Guess karo: 12\n",
      "Guess higher\n",
      "Guess karo: 34\n",
      "Guess higher\n",
      "Guess karo: 90\n",
      "ERROR! Guess lower\n",
      "Guess karo: 76\n",
      "ERROR! Guess lower\n",
      "Guess karo: 78\n",
      "ERROR! Guess lower\n",
      "Guess karo: 23\n",
      "Guess higher\n",
      "Guess karo: 34\n",
      "Guess higher\n",
      "Guess karo: 45\n",
      "Guess higher\n",
      "Guess karo: 56\n",
      "Guess higher\n",
      "Guess karo: 67\n",
      "Guess higher\n",
      "Guess karo: 90\n",
      "ERROR! Guess lower\n",
      "Guess karo: 78\n",
      "ERROR! Guess lower\n",
      "Guess karo: 97\n",
      "ERROR! Guess lower\n",
      "Guess karo: 76\n",
      "ERROR! Guess lower\n",
      "Guess karo: 1\n",
      "Guess higher\n",
      "Guess karo: 34\n",
      "Guess higher\n",
      "Guess karo: 45\n",
      "Guess higher\n",
      "Guess karo: 56\n",
      "Guess higher\n",
      "Guess karo: 67\n",
      "Guess higher\n",
      "Guess karo: 67\n",
      "Guess higher\n",
      "Guess karo: 78\n",
      "ERROR! Guess lower\n",
      "Guess karo: 76\n",
      "ERROR! Guess lower\n",
      "Guess karo: 75\n",
      "ERROR! Guess lower\n",
      "Guess karo: 74\n",
      "ERROR! Guess lower\n",
      "Guess karo: 73\n",
      "ERROR! Guess lower\n",
      "Guess karo: 72\n",
      "ERROR! Guess lower\n",
      "Guess karo: 71\n",
      "Correct Guess\n",
      "Attempt:  33\n"
     ]
    }
   ],
   "source": [
    "# Guessing game\n",
    "\n",
    "# generate a random integer between 1 and 100\n",
    "import random\n",
    "jackpot = random.randint(1, 100)\n",
    "\n",
    "guess = int(input(\"Guess karo: \"))\n",
    "count = 1\n",
    "while guess != jackpot:\n",
    "    if guess < jackpot:\n",
    "        print(\"Guess higher\")\n",
    "    else:\n",
    "        print(\"ERROR! Guess lower\")\n",
    "    \n",
    "    guess = int(input(\"Guess karo: \"))\n",
    "    count += 1\n",
    "\n",
    "else:\n",
    "    print(\"Correct Guess\")\n",
    "    print(\"Attempt: \", count)"
   ]
  },
  {
   "cell_type": "code",
   "execution_count": null,
   "id": "ebe12cd3",
   "metadata": {},
   "outputs": [],
   "source": [
    "# Program to find sum of all digits of a given number"
   ]
  },
  {
   "cell_type": "markdown",
   "id": "2a6ab107",
   "metadata": {},
   "source": [
    "#### 2. for loop"
   ]
  },
  {
   "cell_type": "code",
   "execution_count": 14,
   "id": "27a5ed2c",
   "metadata": {},
   "outputs": [
    {
     "name": "stdout",
     "output_type": "stream",
     "text": [
      "10\n",
      "9\n",
      "8\n",
      "7\n",
      "6\n",
      "5\n",
      "4\n",
      "3\n",
      "2\n",
      "1\n"
     ]
    }
   ],
   "source": [
    "for i in range(10, 0, -1):\n",
    "    print(i)"
   ]
  },
  {
   "cell_type": "markdown",
   "id": "724aa05b",
   "metadata": {},
   "source": [
    "Program: The current population of a town is 10000. The population of the town is increasing at the rate if 10% per year. You have to write a program to find out the population at the end of each of the last 10 years."
   ]
  },
  {
   "cell_type": "code",
   "execution_count": 5,
   "id": "1f6ca392",
   "metadata": {},
   "outputs": [
    {
     "name": "stdout",
     "output_type": "stream",
     "text": [
      "10 10000\n",
      "9 9090.90909090909\n",
      "8 8264.462809917353\n",
      "7 7513.148009015775\n",
      "6 6830.134553650703\n",
      "5 6209.213230591548\n",
      "4 5644.739300537771\n",
      "3 5131.5811823070635\n",
      "2 4665.07380209733\n",
      "1 4240.976183724845\n"
     ]
    }
   ],
   "source": [
    "curr_pop = 10000\n",
    "\n",
    "for i in range(10, 0, -1):\n",
    "    print(i, curr_pop)\n",
    "#     curr_pop = curr_pop - (0.1*curr_pop)\n",
    "    curr_pop = (curr_pop/1.1)\n",
    "#     i -= 1"
   ]
  },
  {
   "cell_type": "markdown",
   "id": "39abfee2",
   "metadata": {},
   "source": [
    "Sequence sum\n",
    "\n",
    "1/1! + 2/2! + 3/3! + ....\n",
    "\n",
    "Que. Calculate the sum of given sequence till nth term."
   ]
  },
  {
   "cell_type": "code",
   "execution_count": 11,
   "id": "6d5cc124",
   "metadata": {},
   "outputs": [
    {
     "name": "stdout",
     "output_type": "stream",
     "text": [
      "Enter a number of terms: 5\n",
      "2.708333333333333\n"
     ]
    }
   ],
   "source": [
    "num = int(input(\"Enter a number of terms: \"))\n",
    "res = 0\n",
    "fact = 1\n",
    "for i in range(1, num+1):\n",
    "    fact = fact * i\n",
    "    res = res + i/fact\n",
    "    \n",
    "print(res)"
   ]
  },
  {
   "cell_type": "markdown",
   "id": "65fa18b9",
   "metadata": {},
   "source": [
    "### Nested Loops\n",
    "* loop within another loop"
   ]
  },
  {
   "cell_type": "code",
   "execution_count": 12,
   "id": "dcb3443e",
   "metadata": {},
   "outputs": [
    {
     "name": "stdout",
     "output_type": "stream",
     "text": [
      "1 1\n",
      "1 2\n",
      "1 3\n",
      "1 4\n",
      "2 1\n",
      "2 2\n",
      "2 3\n",
      "2 4\n",
      "3 1\n",
      "3 2\n",
      "3 3\n",
      "3 4\n",
      "4 1\n",
      "4 2\n",
      "4 3\n",
      "4 4\n"
     ]
    }
   ],
   "source": [
    "for i in range(1, 5):\n",
    "    for j in range(1, 5):\n",
    "        print(i, j)"
   ]
  },
  {
   "cell_type": "code",
   "execution_count": 16,
   "id": "d36fc189",
   "metadata": {},
   "outputs": [
    {
     "name": "stdout",
     "output_type": "stream",
     "text": [
      "Enter a number: 5\n",
      "*\n",
      "**\n",
      "***\n",
      "****\n",
      "*****\n"
     ]
    }
   ],
   "source": [
    "# Pattern\n",
    "num = int(input(\"Enter a number: \"))\n",
    "for i in range(1, num+1):\n",
    "    for j in range(1, i+1):\n",
    "        print(\"*\", end=\"\")\n",
    "    print()"
   ]
  },
  {
   "cell_type": "code",
   "execution_count": 19,
   "id": "42ebe6f4",
   "metadata": {},
   "outputs": [
    {
     "name": "stdout",
     "output_type": "stream",
     "text": [
      "Enter a number: 4\n",
      "1\n",
      "121\n",
      "12321\n",
      "1234321\n"
     ]
    }
   ],
   "source": [
    "# Pattern 2\n",
    "num = int(input(\"Enter a number: \"))\n",
    "for i in range(1, num+1):\n",
    "    for j in range(1, i+1):\n",
    "        print(j, end=\"\")\n",
    "    for k in range(i-1, 0, -1):\n",
    "        print(k, end=\"\")\n",
    "    print()"
   ]
  },
  {
   "cell_type": "markdown",
   "id": "7c9ed5cd",
   "metadata": {},
   "source": [
    "### Loop Control Statement\n",
    "* break\n",
    "    * ex. searching in database\n",
    "    * breaks the loop\n",
    "* continue\n",
    "    * skips current execution cycle\n",
    "    * eg. product with zero stock on ecommerce website\n",
    "* pass\n",
    "    * me bad me aunga, error mt dena\n",
    "    * mechanism to avoid error"
   ]
  },
  {
   "cell_type": "markdown",
   "id": "9031b4db",
   "metadata": {},
   "source": [
    "#### break"
   ]
  },
  {
   "cell_type": "code",
   "execution_count": 21,
   "id": "107d14a2",
   "metadata": {},
   "outputs": [
    {
     "name": "stdout",
     "output_type": "stream",
     "text": [
      "1\n",
      "2\n",
      "3\n",
      "4\n",
      "5\n"
     ]
    }
   ],
   "source": [
    "for i in range(1, 10):\n",
    "    if i == 6:\n",
    "        break\n",
    "    print(i)"
   ]
  },
  {
   "cell_type": "code",
   "execution_count": 28,
   "id": "74616417",
   "metadata": {},
   "outputs": [
    {
     "name": "stdout",
     "output_type": "stream",
     "text": [
      "Enter upper range: 100\n",
      "Enter lower range: 2\n",
      "2\n",
      "3\n",
      "5\n",
      "7\n",
      "11\n",
      "13\n",
      "17\n",
      "19\n",
      "23\n",
      "29\n",
      "31\n",
      "37\n",
      "41\n",
      "43\n",
      "47\n",
      "53\n",
      "59\n",
      "61\n",
      "67\n",
      "71\n",
      "73\n",
      "79\n",
      "83\n",
      "89\n",
      "97\n"
     ]
    }
   ],
   "source": [
    "upper = int(input(\"Enter upper range: \"))\n",
    "lower = int(input(\"Enter lower range: \"))\n",
    "\n",
    "for i in range(lower, upper+1):\n",
    "    for j in range(2, i):\n",
    "        if i%j == 0:\n",
    "            break\n",
    "    else:\n",
    "        print(i)"
   ]
  },
  {
   "cell_type": "markdown",
   "id": "3c203f21",
   "metadata": {},
   "source": [
    "#### continue"
   ]
  },
  {
   "cell_type": "code",
   "execution_count": 32,
   "id": "bd18862a",
   "metadata": {},
   "outputs": [
    {
     "name": "stdout",
     "output_type": "stream",
     "text": [
      "1\n",
      "2\n",
      "4\n",
      "5\n"
     ]
    }
   ],
   "source": [
    "for i in range(1, 6):\n",
    "    if i == 3:\n",
    "        continue\n",
    "    else:\n",
    "        print(i)"
   ]
  },
  {
   "cell_type": "markdown",
   "id": "f684c479",
   "metadata": {},
   "source": [
    "#### pass"
   ]
  },
  {
   "cell_type": "code",
   "execution_count": 34,
   "id": "c180cf99",
   "metadata": {},
   "outputs": [],
   "source": [
    "for i in range(10):\n",
    "    pass"
   ]
  },
  {
   "cell_type": "markdown",
   "id": "d2d2ca94",
   "metadata": {},
   "source": [
    "### TASK-2"
   ]
  },
  {
   "cell_type": "code",
   "execution_count": 9,
   "id": "357636fc",
   "metadata": {},
   "outputs": [],
   "source": [
    "# Problem 1: Write a program that will give you in hand monthly salary after deduction on CTC - HRA(10%), DA(5%), PF(3%) and \n",
    "# taxes deduction as below:\n",
    "\n",
    "# Salary(Lakhs) : Tax(%)\n",
    "# Below 5 : 0%\n",
    "# 5-10 : 10%\n",
    "# 10-20 : 20%\n",
    "# aboove 20 : 30%"
   ]
  },
  {
   "cell_type": "code",
   "execution_count": 10,
   "id": "060a0660",
   "metadata": {},
   "outputs": [],
   "source": [
    "# Problem 2: Write a program that take a user input of three angles and will find out whether it can form a triangle or not.\n"
   ]
  },
  {
   "cell_type": "code",
   "execution_count": 11,
   "id": "6b8caa54",
   "metadata": {},
   "outputs": [],
   "source": [
    "# Problem 3: Write a program that will take user input of cost price and selling price and determines whether its a loss \n",
    "# or a profit.\n"
   ]
  },
  {
   "cell_type": "code",
   "execution_count": null,
   "id": "56de516d",
   "metadata": {},
   "outputs": [],
   "source": [
    "# Problem 4: Write a menu-driven program -\n",
    "# cm to ft\n",
    "# km to miles\n",
    "# USD to INR\n",
    "# exit\n"
   ]
  }
 ],
 "metadata": {
  "kernelspec": {
   "display_name": "Python 3 (ipykernel)",
   "language": "python",
   "name": "python3"
  },
  "language_info": {
   "codemirror_mode": {
    "name": "ipython",
    "version": 3
   },
   "file_extension": ".py",
   "mimetype": "text/x-python",
   "name": "python",
   "nbconvert_exporter": "python",
   "pygments_lexer": "ipython3",
   "version": "3.10.4"
  }
 },
 "nbformat": 4,
 "nbformat_minor": 5
}

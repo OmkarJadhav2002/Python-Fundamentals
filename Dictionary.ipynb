{
 "cells": [
  {
   "cell_type": "markdown",
   "id": "6c676aa9",
   "metadata": {},
   "source": [
    "## Dictionary \n",
    "* collection of key-value pairs \n",
    "* Charecteristics:\n",
    "    * mutable \n",
    "    * indexing has no meaning(you can't access data using indexing) \n",
    "    * keys can't be duplicate \n",
    "    * keys can't be mutable items "
   ]
  },
  {
   "cell_type": "markdown",
   "id": "40849d35",
   "metadata": {},
   "source": [
    "### Create Dictionary "
   ]
  },
  {
   "cell_type": "code",
   "execution_count": 2,
   "id": "90db7501",
   "metadata": {},
   "outputs": [
    {
     "name": "stdout",
     "output_type": "stream",
     "text": [
      "<class 'dict'>\n",
      "{'name': 'Omkar', 'Gender': 'Male', 'Age': 18}\n",
      "{(1, 2, 3): 12, 'name': 'Omkar'}\n",
      "{'name': 'Omkar', 'college': 'PICT', 'sem': 8, 'subjects': {'maths': 90, 'Python': 98, 'Django': 89}}\n",
      "{1: 1, 2: 2, 3: 3}\n"
     ]
    },
    {
     "ename": "TypeError",
     "evalue": "unhashable type: 'list'",
     "output_type": "error",
     "traceback": [
      "\u001b[1;31m---------------------------------------------------------------------------\u001b[0m",
      "\u001b[1;31mTypeError\u001b[0m                                 Traceback (most recent call last)",
      "Input \u001b[1;32mIn [2]\u001b[0m, in \u001b[0;36m<cell line: 29>\u001b[1;34m()\u001b[0m\n\u001b[0;32m     26\u001b[0m \u001b[38;5;28mprint\u001b[39m(d4)\n\u001b[0;32m     28\u001b[0m \u001b[38;5;66;03m# you cannot use mutable types as keys \u001b[39;00m\n\u001b[1;32m---> 29\u001b[0m d5 \u001b[38;5;241m=\u001b[39m {\u001b[38;5;124m\"\u001b[39m\u001b[38;5;124mname\u001b[39m\u001b[38;5;124m\"\u001b[39m: \u001b[38;5;124m\"\u001b[39m\u001b[38;5;124mOmkar\u001b[39m\u001b[38;5;124m\"\u001b[39m, [\u001b[38;5;241m1\u001b[39m, \u001b[38;5;241m2\u001b[39m, \u001b[38;5;241m3\u001b[39m]: \u001b[38;5;241m20\u001b[39m}\n\u001b[0;32m     30\u001b[0m \u001b[38;5;28mprint\u001b[39m(d5)\n",
      "\u001b[1;31mTypeError\u001b[0m: unhashable type: 'list'"
     ]
    }
   ],
   "source": [
    "# empty \n",
    "d = {}\n",
    "print(type(d))\n",
    "\n",
    "# 1d dict \n",
    "d1 = {\"name\": \"Omkar\", \"Gender\": \"Male\", \"Age\": 18}\n",
    "print(d1)\n",
    "\n",
    "d2 = {(1, 2, 3): 12, \"name\": \"Omkar\"}\n",
    "print(d2)\n",
    "\n",
    "# 2D dict \n",
    "d3 = {\n",
    "    \"name\": \"Omkar\",\n",
    "    \"college\": \"PICT\", \n",
    "    \"sem\": 8,\n",
    "    \"subjects\": {\n",
    "        \"maths\": 90,\n",
    "        \"Python\": 98,\n",
    "        \"Django\": 89\n",
    "    }}\n",
    "print(d3)\n",
    "\n",
    "# using sequence and dict function  \n",
    "d4 = dict([(1, 1), (2, 2), (3, 3)])\n",
    "print(d4)\n",
    "\n",
    "# you cannot use mutable types as keys \n",
    "d5 = {\"name\": \"Omkar\", [1, 2, 3]: 20}\n",
    "print(d5)"
   ]
  },
  {
   "cell_type": "markdown",
   "id": "116d1258",
   "metadata": {},
   "source": [
    "### Accessing items \n",
    "* indexing not possible \n",
    "* accessing through keys \n",
    "* get()"
   ]
  },
  {
   "cell_type": "code",
   "execution_count": 3,
   "id": "2ae9d02f",
   "metadata": {},
   "outputs": [
    {
     "data": {
      "text/plain": [
       "'Omkar'"
      ]
     },
     "execution_count": 3,
     "metadata": {},
     "output_type": "execute_result"
    }
   ],
   "source": [
    "dic = {\"name\": \"Omkar\", \"age\": 21} \n",
    "# dic[\"name\"]\n",
    "\n",
    "dic.get(\"name\")"
   ]
  },
  {
   "cell_type": "markdown",
   "id": "025d34f6",
   "metadata": {},
   "source": [
    "### Adding key-value pair "
   ]
  },
  {
   "cell_type": "code",
   "execution_count": 4,
   "id": "8215f14e",
   "metadata": {},
   "outputs": [
    {
     "data": {
      "text/plain": [
       "{'name': 'Omkar', 'age': 21, 'weight': 50}"
      ]
     },
     "execution_count": 4,
     "metadata": {},
     "output_type": "execute_result"
    }
   ],
   "source": [
    "dic[\"weight\"] = 50\n",
    "dic"
   ]
  },
  {
   "cell_type": "markdown",
   "id": "e01395fc",
   "metadata": {},
   "source": [
    "### Remove key-value pair \n",
    "* pop()\n",
    "* popitem()\n",
    "* del \n",
    "* clear()"
   ]
  },
  {
   "cell_type": "code",
   "execution_count": 5,
   "id": "80e0f507",
   "metadata": {},
   "outputs": [
    {
     "name": "stdout",
     "output_type": "stream",
     "text": [
      "{'name': 'Omkar', 'age': 21, 'weight': 50}\n"
     ]
    }
   ],
   "source": [
    "print(dic)\n",
    "\n",
    "# dic.pop(\"weight\")\n",
    "\n",
    "# dic.popitem() # deletes last key-value pair\n",
    "\n",
    "# del dic[\"name\"]\n",
    "\n",
    "# dic.clear()"
   ]
  },
  {
   "cell_type": "markdown",
   "id": "e29eb287",
   "metadata": {},
   "source": [
    "### Editing key-value pair"
   ]
  },
  {
   "cell_type": "code",
   "execution_count": 9,
   "id": "470f62de",
   "metadata": {},
   "outputs": [
    {
     "name": "stdout",
     "output_type": "stream",
     "text": [
      "{'name': 'Omkar', 'college': 'PICT', 'sem': 8, 'subjects': {'maths': 90, 'Python': 98, 'Django': 89}}\n"
     ]
    },
    {
     "data": {
      "text/plain": [
       "{'name': 'Omkar',\n",
       " 'college': 'PICT',\n",
       " 'sem': 7,\n",
       " 'subjects': {'maths': 90, 'Python': 98, 'Django': 89}}"
      ]
     },
     "execution_count": 9,
     "metadata": {},
     "output_type": "execute_result"
    }
   ],
   "source": [
    "print(d3)\n",
    "\n",
    "d3['sem'] = 7\n",
    "d3"
   ]
  },
  {
   "cell_type": "markdown",
   "id": "a8fff8e4",
   "metadata": {},
   "source": [
    "### Dictionary Operations \n",
    "* Membership \n",
    "* Iteration "
   ]
  },
  {
   "cell_type": "code",
   "execution_count": 11,
   "id": "2520941f",
   "metadata": {},
   "outputs": [
    {
     "data": {
      "text/plain": [
       "True"
      ]
     },
     "execution_count": 11,
     "metadata": {},
     "output_type": "execute_result"
    }
   ],
   "source": [
    "\"name\" in d3"
   ]
  },
  {
   "cell_type": "code",
   "execution_count": 18,
   "id": "a3bef80d",
   "metadata": {},
   "outputs": [
    {
     "name": "stdout",
     "output_type": "stream",
     "text": [
      "name Omkar\n",
      "college PICT\n",
      "sem 7\n",
      "subjects {'maths': 90, 'Python': 98, 'Django': 89}\n"
     ]
    }
   ],
   "source": [
    "# for k, v in d3.items():\n",
    "#     print(k,':',  v)\n",
    "\n",
    "for i in d3:\n",
    "    print(i, d3[i])"
   ]
  },
  {
   "cell_type": "markdown",
   "id": "01e5ef1b",
   "metadata": {},
   "source": [
    "### Dictionary Functions \n",
    "* len()\n",
    "* sorted(): sort the keys \n",
    "* min()\n",
    "* max()\n",
    "* items()\n",
    "* keys()\n",
    "* values()\n",
    "* update()"
   ]
  },
  {
   "cell_type": "code",
   "execution_count": 23,
   "id": "e838c8de",
   "metadata": {},
   "outputs": [
    {
     "data": {
      "text/plain": [
       "{'name': 'Omkar', 'age': 21, 'gender': 'male'}"
      ]
     },
     "execution_count": 23,
     "metadata": {},
     "output_type": "execute_result"
    }
   ],
   "source": [
    "d = {\"name\": \"Omkar\", \"age\": 21, \"gender\": \"male\"}\n",
    "d"
   ]
  },
  {
   "cell_type": "code",
   "execution_count": 27,
   "id": "59e498d0",
   "metadata": {},
   "outputs": [
    {
     "name": "stdout",
     "output_type": "stream",
     "text": [
      "3\n",
      "age\n",
      "name\n",
      "['age', 'gender', 'name']\n",
      "dict_items([('name', 'Omkar'), ('age', 21), ('gender', 'male')])\n",
      "dict_keys(['name', 'age', 'gender'])\n",
      "dict_values(['Omkar', 21, 'male'])\n",
      "{1: 2, 2: 3, 3: 4, 4: 1000, 10: 100}\n",
      "{10: 100, 4: 1000}\n"
     ]
    }
   ],
   "source": [
    "print(len(d))\n",
    "\n",
    "print(min(d))\n",
    "\n",
    "print(max(d))\n",
    "\n",
    "print(sorted(d))\n",
    "\n",
    "print(d.items())\n",
    "\n",
    "print(d.keys())\n",
    "\n",
    "print(d.values())\n",
    "\n",
    "\n",
    "# update() function \n",
    "d1 = {1: 2, 2: 3, 3: 4, 4: 5}\n",
    "d2 = {10: 100, 4: 1000}\n",
    "\n",
    "d1.update(d2)\n",
    "print(d1)\n",
    "print(d2)"
   ]
  },
  {
   "cell_type": "markdown",
   "id": "24fd158c",
   "metadata": {},
   "source": [
    "### Dictinary Comprehensions "
   ]
  },
  {
   "cell_type": "code",
   "execution_count": 33,
   "id": "c6876a26",
   "metadata": {},
   "outputs": [
    {
     "data": {
      "text/plain": [
       "{'sangamner': 145, 'pune': 120, 'nagar': 110}"
      ]
     },
     "execution_count": 33,
     "metadata": {},
     "output_type": "execute_result"
    }
   ],
   "source": [
    "distances = {\"sangamner\": 145, \"pune\": 120, \"nagar\": 110}\n",
    "# using existing dict \n",
    "{i:j for i, j in distances.items()}"
   ]
  },
  {
   "cell_type": "code",
   "execution_count": 34,
   "id": "927c22a7",
   "metadata": {},
   "outputs": [
    {
     "data": {
      "text/plain": [
       "{'Sunday': 23.4,\n",
       " 'Monday': 12,\n",
       " 'Tuesday': 83,\n",
       " 'Wednesday': 34.3,\n",
       " 'Thursday': 45.5,\n",
       " 'Friday': 67,\n",
       " 'Saturday': 50.6}"
      ]
     },
     "execution_count": 34,
     "metadata": {},
     "output_type": "execute_result"
    }
   ],
   "source": [
    "# using zip()\n",
    "days = [\"Sunday\", \"Monday\", \"Tuesday\", \"Wednesday\", \"Thursday\", \"Friday\", \"Saturday\"]\n",
    "temp = [23.4, 12, 83, 34.3, 45.5, 67, 50.6]\n",
    "\n",
    "{i:j for (i, j) in zip(days, temp)}"
   ]
  },
  {
   "cell_type": "code",
   "execution_count": 35,
   "id": "221d22df",
   "metadata": {},
   "outputs": [
    {
     "data": {
      "text/plain": [
       "{'Tuesday': 83, 'Thursday': 45.5, 'Friday': 67, 'Saturday': 50.6}"
      ]
     },
     "execution_count": 35,
     "metadata": {},
     "output_type": "execute_result"
    }
   ],
   "source": [
    "# using if condition \n",
    "dic = {'Sunday': 23.4,\n",
    " 'Monday': 12,\n",
    " 'Tuesday': 83,\n",
    " 'Wednesday': 34.3,\n",
    " 'Thursday': 45.5,\n",
    " 'Friday': 67,\n",
    " 'Saturday': 50.6}\n",
    "\n",
    "# display days with temperature > 40\n",
    "{day:temp for day, temp in dic.items() if temp>40}"
   ]
  },
  {
   "cell_type": "code",
   "execution_count": null,
   "id": "3de4ecbf",
   "metadata": {},
   "outputs": [],
   "source": []
  }
 ],
 "metadata": {
  "kernelspec": {
   "display_name": "Python 3 (ipykernel)",
   "language": "python",
   "name": "python3"
  },
  "language_info": {
   "codemirror_mode": {
    "name": "ipython",
    "version": 3
   },
   "file_extension": ".py",
   "mimetype": "text/x-python",
   "name": "python",
   "nbconvert_exporter": "python",
   "pygments_lexer": "ipython3",
   "version": "3.10.4"
  }
 },
 "nbformat": 4,
 "nbformat_minor": 5
}

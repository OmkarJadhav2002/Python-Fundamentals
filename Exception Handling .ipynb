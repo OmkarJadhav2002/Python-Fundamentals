{
 "cells": [
  {
   "cell_type": "markdown",
   "id": "a484e8ab",
   "metadata": {},
   "source": [
    "There are 2 stages where error may happend in a program \n",
    "* During the compilation: Syntax Error\n",
    "* During the execution: Exceptions \n",
    "\n",
    "### Syntax Error\n",
    "* Something in the program is not written according to the program guidelines/grammer\n",
    "* Error is raised by the interpreter/compiler \n",
    "* Can solve/resolved the error by rectifying the program "
   ]
  },
  {
   "cell_type": "code",
   "execution_count": 1,
   "id": "b0d480dd",
   "metadata": {},
   "outputs": [
    {
     "ename": "SyntaxError",
     "evalue": "Missing parentheses in call to 'print'. Did you mean print(...)? (3758840479.py, line 2)",
     "output_type": "error",
     "traceback": [
      "\u001b[1;36m  Input \u001b[1;32mIn [1]\u001b[1;36m\u001b[0m\n\u001b[1;33m    print \"hello world\"\u001b[0m\n\u001b[1;37m    ^\u001b[0m\n\u001b[1;31mSyntaxError\u001b[0m\u001b[1;31m:\u001b[0m Missing parentheses in call to 'print'. Did you mean print(...)?\n"
     ]
    }
   ],
   "source": [
    "# for example \n",
    "print \"hello world\""
   ]
  },
  {
   "cell_type": "markdown",
   "id": "0b7fbef1",
   "metadata": {},
   "source": [
    "#### IndexError \n",
    "* The IndexError is thrown when trying to access an item at an invalid index."
   ]
  },
  {
   "cell_type": "code",
   "execution_count": 2,
   "id": "dcd047af",
   "metadata": {},
   "outputs": [
    {
     "ename": "IndexError",
     "evalue": "list index out of range",
     "output_type": "error",
     "traceback": [
      "\u001b[1;31m---------------------------------------------------------------------------\u001b[0m",
      "\u001b[1;31mIndexError\u001b[0m                                Traceback (most recent call last)",
      "Input \u001b[1;32mIn [2]\u001b[0m, in \u001b[0;36m<cell line: 2>\u001b[1;34m()\u001b[0m\n\u001b[0;32m      1\u001b[0m l \u001b[38;5;241m=\u001b[39m [\u001b[38;5;241m1\u001b[39m, \u001b[38;5;241m2\u001b[39m, \u001b[38;5;241m3\u001b[39m]\n\u001b[1;32m----> 2\u001b[0m \u001b[43ml\u001b[49m\u001b[43m[\u001b[49m\u001b[38;5;241;43m4\u001b[39;49m\u001b[43m]\u001b[49m\n",
      "\u001b[1;31mIndexError\u001b[0m: list index out of range"
     ]
    }
   ],
   "source": [
    "l = [1, 2, 3]\n",
    "l[4]"
   ]
  },
  {
   "cell_type": "markdown",
   "id": "bd48a712",
   "metadata": {},
   "source": [
    "#### ModuleNotFoundError\n",
    "* thrown when module could not be found "
   ]
  },
  {
   "cell_type": "code",
   "execution_count": 4,
   "id": "da922e78",
   "metadata": {},
   "outputs": [
    {
     "ename": "ModuleNotFoundError",
     "evalue": "No module named 'numpyi'",
     "output_type": "error",
     "traceback": [
      "\u001b[1;31m---------------------------------------------------------------------------\u001b[0m",
      "\u001b[1;31mModuleNotFoundError\u001b[0m                       Traceback (most recent call last)",
      "Input \u001b[1;32mIn [4]\u001b[0m, in \u001b[0;36m<cell line: 1>\u001b[1;34m()\u001b[0m\n\u001b[1;32m----> 1\u001b[0m \u001b[38;5;28;01mimport\u001b[39;00m \u001b[38;5;21;01mnumpyi\u001b[39;00m\n",
      "\u001b[1;31mModuleNotFoundError\u001b[0m: No module named 'numpyi'"
     ]
    }
   ],
   "source": [
    "import numpyi"
   ]
  },
  {
   "cell_type": "markdown",
   "id": "450aeadb",
   "metadata": {},
   "source": [
    "#### KeyError\n",
    "* thrown when key is not found  "
   ]
  },
  {
   "cell_type": "code",
   "execution_count": 6,
   "id": "e65389e5",
   "metadata": {},
   "outputs": [
    {
     "ename": "KeyError",
     "evalue": "'age'",
     "output_type": "error",
     "traceback": [
      "\u001b[1;31m---------------------------------------------------------------------------\u001b[0m",
      "\u001b[1;31mKeyError\u001b[0m                                  Traceback (most recent call last)",
      "Input \u001b[1;32mIn [6]\u001b[0m, in \u001b[0;36m<cell line: 2>\u001b[1;34m()\u001b[0m\n\u001b[0;32m      1\u001b[0m d \u001b[38;5;241m=\u001b[39m {\u001b[38;5;124m\"\u001b[39m\u001b[38;5;124mname\u001b[39m\u001b[38;5;124m\"\u001b[39m: \u001b[38;5;124m\"\u001b[39m\u001b[38;5;124momkar\u001b[39m\u001b[38;5;124m\"\u001b[39m}\n\u001b[1;32m----> 2\u001b[0m \u001b[43md\u001b[49m\u001b[43m[\u001b[49m\u001b[38;5;124;43m\"\u001b[39;49m\u001b[38;5;124;43mage\u001b[39;49m\u001b[38;5;124;43m\"\u001b[39;49m\u001b[43m]\u001b[49m\n",
      "\u001b[1;31mKeyError\u001b[0m: 'age'"
     ]
    }
   ],
   "source": [
    "d = {\"name\": \"omkar\"}\n",
    "d[\"age\"]"
   ]
  },
  {
   "cell_type": "markdown",
   "id": "ecfa0bbb",
   "metadata": {},
   "source": [
    "#### ValueError\n",
    "* thrown when function argument is of an inappropriate type."
   ]
  },
  {
   "cell_type": "code",
   "execution_count": 10,
   "id": "e864ac46",
   "metadata": {},
   "outputs": [
    {
     "ename": "ValueError",
     "evalue": "invalid literal for int() with base 10: 'a'",
     "output_type": "error",
     "traceback": [
      "\u001b[1;31m---------------------------------------------------------------------------\u001b[0m",
      "\u001b[1;31mValueError\u001b[0m                                Traceback (most recent call last)",
      "Input \u001b[1;32mIn [10]\u001b[0m, in \u001b[0;36m<cell line: 1>\u001b[1;34m()\u001b[0m\n\u001b[1;32m----> 1\u001b[0m \u001b[38;5;28;43mint\u001b[39;49m\u001b[43m(\u001b[49m\u001b[38;5;124;43m'\u001b[39;49m\u001b[38;5;124;43ma\u001b[39;49m\u001b[38;5;124;43m'\u001b[39;49m\u001b[43m)\u001b[49m\n",
      "\u001b[1;31mValueError\u001b[0m: invalid literal for int() with base 10: 'a'"
     ]
    }
   ],
   "source": [
    "int('a')"
   ]
  },
  {
   "cell_type": "markdown",
   "id": "61d3ed66",
   "metadata": {},
   "source": [
    "#### TypeError \n",
    "* thrown when an operation or function is applied to an object of an inappropriate type "
   ]
  },
  {
   "cell_type": "code",
   "execution_count": 11,
   "id": "75d37ee6",
   "metadata": {},
   "outputs": [
    {
     "ename": "TypeError",
     "evalue": "unsupported operand type(s) for +: 'int' and 'str'",
     "output_type": "error",
     "traceback": [
      "\u001b[1;31m---------------------------------------------------------------------------\u001b[0m",
      "\u001b[1;31mTypeError\u001b[0m                                 Traceback (most recent call last)",
      "Input \u001b[1;32mIn [11]\u001b[0m, in \u001b[0;36m<cell line: 1>\u001b[1;34m()\u001b[0m\n\u001b[1;32m----> 1\u001b[0m \u001b[38;5;241;43m1\u001b[39;49m\u001b[43m \u001b[49m\u001b[38;5;241;43m+\u001b[39;49m\u001b[43m \u001b[49m\u001b[38;5;124;43m'\u001b[39;49m\u001b[38;5;124;43ma\u001b[39;49m\u001b[38;5;124;43m'\u001b[39;49m\n",
      "\u001b[1;31mTypeError\u001b[0m: unsupported operand type(s) for +: 'int' and 'str'"
     ]
    }
   ],
   "source": [
    "1 + 'a'"
   ]
  },
  {
   "cell_type": "markdown",
   "id": "a8a9d80d",
   "metadata": {},
   "source": [
    "#### NameError"
   ]
  },
  {
   "cell_type": "code",
   "execution_count": 12,
   "id": "aecedf93",
   "metadata": {},
   "outputs": [
    {
     "ename": "NameError",
     "evalue": "name 'k' is not defined",
     "output_type": "error",
     "traceback": [
      "\u001b[1;31m---------------------------------------------------------------------------\u001b[0m",
      "\u001b[1;31mNameError\u001b[0m                                 Traceback (most recent call last)",
      "Input \u001b[1;32mIn [12]\u001b[0m, in \u001b[0;36m<cell line: 1>\u001b[1;34m()\u001b[0m\n\u001b[1;32m----> 1\u001b[0m \u001b[38;5;28mprint\u001b[39m(\u001b[43mk\u001b[49m)\n",
      "\u001b[1;31mNameError\u001b[0m: name 'k' is not defined"
     ]
    }
   ],
   "source": [
    "print(k)"
   ]
  },
  {
   "cell_type": "markdown",
   "id": "7b4aacf4",
   "metadata": {},
   "source": [
    "#### Attribute Error "
   ]
  },
  {
   "cell_type": "code",
   "execution_count": 14,
   "id": "ef0fc6de",
   "metadata": {},
   "outputs": [
    {
     "ename": "AttributeError",
     "evalue": "'list' object has no attribute 'upper'",
     "output_type": "error",
     "traceback": [
      "\u001b[1;31m---------------------------------------------------------------------------\u001b[0m",
      "\u001b[1;31mAttributeError\u001b[0m                            Traceback (most recent call last)",
      "Input \u001b[1;32mIn [14]\u001b[0m, in \u001b[0;36m<cell line: 2>\u001b[1;34m()\u001b[0m\n\u001b[0;32m      1\u001b[0m l \u001b[38;5;241m=\u001b[39m [\u001b[38;5;241m1\u001b[39m, \u001b[38;5;241m2\u001b[39m, \u001b[38;5;241m3\u001b[39m]\n\u001b[1;32m----> 2\u001b[0m \u001b[43ml\u001b[49m\u001b[38;5;241;43m.\u001b[39;49m\u001b[43mupper\u001b[49m()\n",
      "\u001b[1;31mAttributeError\u001b[0m: 'list' object has no attribute 'upper'"
     ]
    }
   ],
   "source": [
    "l = [1, 2, 3]\n",
    "l.upper()\n",
    "\n",
    "\n",
    "# this message us called: stacktrace\n",
    "# ---------------------------------------------------------------------------\n",
    "# AttributeError                            Traceback (most recent call last)\n",
    "# Input In [13], in <cell line: 2>()\n",
    "#       1 l = [1, 2, 3]\n",
    "# ----> 2 l.upper()\n",
    "\n",
    "# AttributeError: 'list' object has no attribute 'upper'"
   ]
  },
  {
   "cell_type": "markdown",
   "id": "63e66184",
   "metadata": {},
   "source": [
    "### Exceptions\n",
    "* logical errors \n",
    "* Examples:\n",
    "    * memory overflow \n",
    "    * divide by 0 \n",
    "    * Database error \n",
    "    \n",
    "#### Why exception handling is necessary?\n",
    "* user experience \n",
    "* security purpose \n",
    "\n",
    "#### How to handle exceptions?\n",
    "* Try Except Block \n",
    "\n",
    "#### In which case you used try-except block?\n",
    "* whenever you are dealing with external files or anything in your program you put that code in try-except block  "
   ]
  },
  {
   "cell_type": "code",
   "execution_count": 19,
   "id": "49b67be2",
   "metadata": {},
   "outputs": [
    {
     "name": "stdout",
     "output_type": "stream",
     "text": [
      "File not found.\n"
     ]
    }
   ],
   "source": [
    "# catching specific exception \n",
    "try:\n",
    "    m = 6\n",
    "    f = open('sample2.txt', 'r') \n",
    "    print(f.read()) \n",
    "    print(m) \n",
    "    print(5/0) \n",
    "except FileNotFoundError:\n",
    "    print(\"File not found.\")\n",
    "except NameError:\n",
    "    print(\"Variable not defined.\") \n",
    "except ZeroDivisionError:\n",
    "    print(\"Division by zero not possible\")\n",
    "# generic block \n",
    "except Exception as e:\n",
    "    print(e)"
   ]
  },
  {
   "cell_type": "markdown",
   "id": "098d8ad9",
   "metadata": {},
   "source": [
    "#### else block \n",
    "* you are sure that the code inside the try block will run completely fine without error then the execution go to else block and execute the code inside the else block "
   ]
  },
  {
   "cell_type": "code",
   "execution_count": 23,
   "id": "0900d166",
   "metadata": {},
   "outputs": [
    {
     "name": "stdout",
     "output_type": "stream",
     "text": [
      "Xello\n"
     ]
    }
   ],
   "source": [
    "try:\n",
    "    f = open('sample1.txt', 'r') \n",
    "except FileNotFoundError:\n",
    "    print(\"File not found.\") \n",
    "except Exception:\n",
    "    print(\"I don't know what the error is.\")\n",
    "# if try is running fine \n",
    "else:\n",
    "    print(f.read())"
   ]
  },
  {
   "cell_type": "markdown",
   "id": "cb2f7dee",
   "metadata": {},
   "source": [
    "#### finally block \n",
    "* why it is used?\n",
    "    * to close the database connections, some files connections, some socket and bluetooth connections. "
   ]
  },
  {
   "cell_type": "code",
   "execution_count": 25,
   "id": "adb22bd7",
   "metadata": {},
   "outputs": [
    {
     "name": "stdout",
     "output_type": "stream",
     "text": [
      "File not found.\n",
      "I will execute at any cost.\n"
     ]
    }
   ],
   "source": [
    "try:\n",
    "    f = open('sample12.txt', 'r') \n",
    "except FileNotFoundError:\n",
    "    print(\"File not found.\") \n",
    "except Exception:\n",
    "    print(\"I don't know what the error is.\")\n",
    "# if try is running fine \n",
    "else:\n",
    "    print(f.read())\n",
    "finally:\n",
    "    print(\"I will execute at any cost.\")"
   ]
  },
  {
   "cell_type": "markdown",
   "id": "1a003e08",
   "metadata": {},
   "source": [
    "#### raise Exception \n",
    "* can manually raise exceptions using raise keywork \n",
    "* like throw in other languages"
   ]
  },
  {
   "cell_type": "code",
   "execution_count": 26,
   "id": "89a73f84",
   "metadata": {},
   "outputs": [
    {
     "ename": "NameError",
     "evalue": "Just trying",
     "output_type": "error",
     "traceback": [
      "\u001b[1;31m---------------------------------------------------------------------------\u001b[0m",
      "\u001b[1;31mNameError\u001b[0m                                 Traceback (most recent call last)",
      "Input \u001b[1;32mIn [26]\u001b[0m, in \u001b[0;36m<cell line: 1>\u001b[1;34m()\u001b[0m\n\u001b[1;32m----> 1\u001b[0m \u001b[38;5;28;01mraise\u001b[39;00m \u001b[38;5;167;01mNameError\u001b[39;00m(\u001b[38;5;124m\"\u001b[39m\u001b[38;5;124mJust trying\u001b[39m\u001b[38;5;124m\"\u001b[39m)\n",
      "\u001b[1;31mNameError\u001b[0m: Just trying"
     ]
    }
   ],
   "source": [
    "raise NameError(\"Just trying\")"
   ]
  },
  {
   "cell_type": "code",
   "execution_count": 31,
   "id": "a93b99cc",
   "metadata": {},
   "outputs": [
    {
     "name": "stdout",
     "output_type": "stream",
     "text": [
      "Amount cannot be -ve.\n"
     ]
    }
   ],
   "source": [
    "class Bank:\n",
    "    def __init__(self, balance):\n",
    "        self.balance = balance \n",
    "        \n",
    "    def withdraw(self, amount):\n",
    "        if amount<0:\n",
    "            raise Exception(\"Amount cannot be -ve.\") \n",
    "        if self.balance < amount:\n",
    "            raise Exception(\"Insufficient balance.\") \n",
    "        self.balance = self.balance - amount \n",
    "        \n",
    "obj = Bank(10000)\n",
    "try:\n",
    "    obj.withdraw(-1200) \n",
    "except Exception as e:\n",
    "    print(e)\n",
    "else:\n",
    "    print(obj.balance)"
   ]
  },
  {
   "attachments": {},
   "cell_type": "markdown",
   "id": "32cb90f9",
   "metadata": {},
   "source": [
    "### Creating custom Exception Classes\n",
    "\n",
    "* Why it is necessary?\n",
    "    * when you want to raise an exceptions on the basis of your applications along with other necessary and important functionalities you use or design custom exception classes"
   ]
  },
  {
   "cell_type": "code",
   "execution_count": 35,
   "id": "037bc1f8",
   "metadata": {},
   "outputs": [
    {
     "name": "stdout",
     "output_type": "stream",
     "text": [
      "Amount cannot be -ve.\n"
     ]
    }
   ],
   "source": [
    "class MyException(Exception):\n",
    "    def __init__(self, message):\n",
    "        print(message)\n",
    "\n",
    "class Bank:\n",
    "    def __init__(self, balance):\n",
    "        self.balance = balance \n",
    "        \n",
    "    def withdraw(self, amount):\n",
    "        if amount<0:\n",
    "            raise MyException(\"Amount cannot be -ve.\") \n",
    "        if self.balance < amount:\n",
    "            raise MyException(\"Insufficient balance.\") \n",
    "        self.balance = self.balance - amount \n",
    "        \n",
    "obj = Bank(10000)\n",
    "try:\n",
    "    obj.withdraw(-1200) \n",
    "except MyException as e:\n",
    "    # print(e)\n",
    "    pass\n",
    "else:\n",
    "    print(obj.balance)"
   ]
  },
  {
   "cell_type": "code",
   "execution_count": 48,
   "id": "d354f404",
   "metadata": {},
   "outputs": [
    {
     "name": "stdout",
     "output_type": "stream",
     "text": [
      "Someone is trying to login into your account🤡\n",
      "Logging out from all the devices.\n",
      "Database connection closed.\n"
     ]
    }
   ],
   "source": [
    "# For Example: Google login(when you login through new device)\n",
    "\n",
    "class SecurityError(Exception):\n",
    "    def __init__(self, message):\n",
    "        print(message) \n",
    "    \n",
    "    def logout(self):\n",
    "        print(\"Logging out from all the devices.\")\n",
    "\n",
    "class Google:\n",
    "    def __init__(self, name, email, password, device):\n",
    "        self.name = name \n",
    "        self.email = email \n",
    "        self.password = password \n",
    "        self.device = device  \n",
    "        \n",
    "    def login(self, email, password, device):\n",
    "        # if login through new device\n",
    "        if device != self.device:\n",
    "            raise SecurityError(\"Someone is trying to login into your account🤡\") \n",
    "        if email == self.email and password == self.password:\n",
    "            print(\"Login Successful.\") \n",
    "        else:\n",
    "            print(\"Error💀\")\n",
    "    \n",
    "obj = Google(\"Omkar\", \"omkar@gmail.com\", 1234, \"android\")\n",
    "try:\n",
    "    obj.login(\"omkar@gmail.com\", 1234, \"ios\")\n",
    "except SecurityError as e:\n",
    "    e.logout()\n",
    "else:\n",
    "    print(obj.name)\n",
    "finally:\n",
    "    print(\"Database connection closed.\")"
   ]
  },
  {
   "cell_type": "code",
   "execution_count": null,
   "id": "d6116c66",
   "metadata": {},
   "outputs": [],
   "source": []
  }
 ],
 "metadata": {
  "kernelspec": {
   "display_name": "Python 3 (ipykernel)",
   "language": "python",
   "name": "python3"
  },
  "language_info": {
   "codemirror_mode": {
    "name": "ipython",
    "version": 3
   },
   "file_extension": ".py",
   "mimetype": "text/x-python",
   "name": "python",
   "nbconvert_exporter": "python",
   "pygments_lexer": "ipython3",
   "version": "3.10.4"
  }
 },
 "nbformat": 4,
 "nbformat_minor": 5
}

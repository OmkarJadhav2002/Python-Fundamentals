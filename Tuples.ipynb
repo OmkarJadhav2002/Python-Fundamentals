{
 "cells": [
  {
   "cell_type": "markdown",
   "id": "2a784f45",
   "metadata": {},
   "source": [
    "## Tuples"
   ]
  },
  {
   "cell_type": "markdown",
   "id": "4a993058",
   "metadata": {},
   "source": [
    "### Creating Tuples "
   ]
  },
  {
   "cell_type": "code",
   "execution_count": 9,
   "id": "bc499618",
   "metadata": {},
   "outputs": [
    {
     "name": "stdout",
     "output_type": "stream",
     "text": [
      "()\n",
      "<class 'tuple'>\n",
      "<class 'str'>\n",
      "(1, 2, 3, 4, 5)\n",
      "(1, 2, 3, (4, 5))\n",
      "('O', 'm', 'k', 'a', 'r')\n"
     ]
    }
   ],
   "source": [
    "# Empty tuple \n",
    "t1 = ()\n",
    "print(t1)\n",
    "\n",
    "# Creating tuple with single element \n",
    "t2 = (\"Omkar\", )\n",
    "print(type(t2))\n",
    "\n",
    "# Important \n",
    "t2 = (\"Omkar\")\n",
    "print(type(t2))\n",
    "\n",
    "# Creating homogenous tuple \n",
    "t3 = (1, 2, 3, 4, 5)\n",
    "print(t3)\n",
    "\n",
    "# Creating 2d tuple \n",
    "t4 = (1, 2, 3, (4, 5))\n",
    "print(t4)\n",
    "\n",
    "# using type conversion \n",
    "t5 = tuple(\"Omkar\")\n",
    "print(t5)"
   ]
  },
  {
   "cell_type": "markdown",
   "id": "6e8d6819",
   "metadata": {},
   "source": [
    "### Acessing Items (same as list)\n",
    "* Using Indexing \n",
    "* Using Slicing "
   ]
  },
  {
   "cell_type": "code",
   "execution_count": 11,
   "id": "12f4613f",
   "metadata": {},
   "outputs": [
    {
     "name": "stdout",
     "output_type": "stream",
     "text": [
      "(1, 2, 3, 4, 5)\n",
      "4\n",
      "4\n",
      "(5, 4, 3, 2, 1)\n"
     ]
    }
   ],
   "source": [
    "t = (1, 2, 3, 4, 5)\n",
    "print(t)\n",
    "print(t[3])\n",
    "print(t[-2])\n",
    "print(t[::-1])"
   ]
  },
  {
   "cell_type": "markdown",
   "id": "b4cee3db",
   "metadata": {},
   "source": [
    "### Editing Items \n",
    "* Tuples are immutable "
   ]
  },
  {
   "cell_type": "code",
   "execution_count": 14,
   "id": "c49543c4",
   "metadata": {},
   "outputs": [
    {
     "ename": "TypeError",
     "evalue": "'tuple' object does not support item assignment",
     "output_type": "error",
     "traceback": [
      "\u001b[1;31m---------------------------------------------------------------------------\u001b[0m",
      "\u001b[1;31mTypeError\u001b[0m                                 Traceback (most recent call last)",
      "Input \u001b[1;32mIn [14]\u001b[0m, in \u001b[0;36m<cell line: 1>\u001b[1;34m()\u001b[0m\n\u001b[1;32m----> 1\u001b[0m t[\u001b[38;5;241m0\u001b[39m] \u001b[38;5;241m=\u001b[39m \u001b[38;5;241m12\u001b[39m\n",
      "\u001b[1;31mTypeError\u001b[0m: 'tuple' object does not support item assignment"
     ]
    }
   ],
   "source": [
    "t[0] = 12"
   ]
  },
  {
   "cell_type": "markdown",
   "id": "e2bcc45c",
   "metadata": {},
   "source": [
    "### Adding Items\n",
    "* Tuples are immutable. You cannot add the elements to tuple. "
   ]
  },
  {
   "cell_type": "markdown",
   "id": "e74385c1",
   "metadata": {},
   "source": [
    "### Deleting Items \n",
    "* You can delete an entire tuple, not the portion of the tuple "
   ]
  },
  {
   "cell_type": "code",
   "execution_count": 17,
   "id": "c4ad7f41",
   "metadata": {},
   "outputs": [
    {
     "ename": "NameError",
     "evalue": "name 't' is not defined",
     "output_type": "error",
     "traceback": [
      "\u001b[1;31m---------------------------------------------------------------------------\u001b[0m",
      "\u001b[1;31mNameError\u001b[0m                                 Traceback (most recent call last)",
      "Input \u001b[1;32mIn [17]\u001b[0m, in \u001b[0;36m<cell line: 3>\u001b[1;34m()\u001b[0m\n\u001b[0;32m      1\u001b[0m t \u001b[38;5;241m=\u001b[39m (\u001b[38;5;241m1\u001b[39m, \u001b[38;5;241m2\u001b[39m, \u001b[38;5;241m3\u001b[39m, \u001b[38;5;241m4\u001b[39m, \u001b[38;5;241m5\u001b[39m)\n\u001b[0;32m      2\u001b[0m \u001b[38;5;28;01mdel\u001b[39;00m t\n\u001b[1;32m----> 3\u001b[0m \u001b[38;5;28mprint\u001b[39m(\u001b[43mt\u001b[49m)\n",
      "\u001b[1;31mNameError\u001b[0m: name 't' is not defined"
     ]
    }
   ],
   "source": [
    "t = (1, 2, 3, 4, 5)\n",
    "del t\n",
    "print(t)"
   ]
  },
  {
   "cell_type": "markdown",
   "id": "fd747539",
   "metadata": {},
   "source": [
    "### Operations on Tuples\n",
    "* Arithmetic (Addition and Multiplication)\n",
    "* Membership\n",
    "* Loop "
   ]
  },
  {
   "cell_type": "code",
   "execution_count": 26,
   "id": "84ac9921",
   "metadata": {},
   "outputs": [
    {
     "name": "stdout",
     "output_type": "stream",
     "text": [
      "(1, 2, 3, 4, 5, 6, 7, 8)\n",
      "(5, 6, 7, 8, 5, 6, 7, 8, 5, 6, 7, 8, 5, 6, 7, 8)\n",
      "True\n",
      "1\n",
      "2\n",
      "3\n",
      "4\n"
     ]
    }
   ],
   "source": [
    "t1 = (1, 2, 3, 4)\n",
    "t2 = (5, 6, 7, 8)\n",
    "\n",
    "# Addition (Merging)\n",
    "print(t1+t2)\n",
    "print(t2*4)\n",
    "\n",
    "# Membership \n",
    "print(4 in t1)\n",
    "\n",
    "# Loop \n",
    "for i in t1:\n",
    "    print(i)"
   ]
  },
  {
   "cell_type": "markdown",
   "id": "d79df5ff",
   "metadata": {},
   "source": [
    "### Tuple functions \n",
    "* len()\n",
    "* sum()\n",
    "* min()\n",
    "* max()\n",
    "* sorted()\n",
    "* count()\n",
    "* index(): gives the index of the element "
   ]
  },
  {
   "cell_type": "markdown",
   "id": "1b17fb77",
   "metadata": {},
   "source": [
    "### Difference between Lists and Tuples \n",
    "* Immutable data types are faster in comparison to mutable data types \n",
    "* tuples are mutable \n",
    "* tuples are memory efficient \n",
    "* lists gives more inbuilt functions as compared to tuples\n",
    "* Tuples are error prone(immutable)\n",
    "* Why to use tuples instead to lists?\n",
    "    * Immutability of tuples \n",
    "    * use tuples where applications are more read only \n",
    "    * use lists where applications are write only (user making frequent changes)"
   ]
  },
  {
   "cell_type": "markdown",
   "id": "644b11ed",
   "metadata": {},
   "source": [
    "### Special Syntax\n",
    "* Tuple unpacking "
   ]
  },
  {
   "cell_type": "code",
   "execution_count": 30,
   "id": "77d764b0",
   "metadata": {},
   "outputs": [
    {
     "name": "stdout",
     "output_type": "stream",
     "text": [
      "1 2 3\n"
     ]
    }
   ],
   "source": [
    "a, b, c = (1, 2, 3)\n",
    "print(a, b, c)"
   ]
  },
  {
   "cell_type": "code",
   "execution_count": 32,
   "id": "1a512660",
   "metadata": {},
   "outputs": [
    {
     "name": "stdout",
     "output_type": "stream",
     "text": [
      "1 2\n",
      "[3, 4, 5]\n"
     ]
    }
   ],
   "source": [
    "a, b, *others = (1, 2, 3, 4, 5)\n",
    "print(a, b)\n",
    "print(others)"
   ]
  },
  {
   "cell_type": "markdown",
   "id": "7fde89e8",
   "metadata": {},
   "source": [
    "### Zipping in Tuples "
   ]
  },
  {
   "cell_type": "code",
   "execution_count": 38,
   "id": "e0bf2f74",
   "metadata": {},
   "outputs": [
    {
     "name": "stdout",
     "output_type": "stream",
     "text": [
      "((1, 4), (2, 5), (3, 6), (4, 7))\n",
      "[(1, 4), (2, 5), (3, 6), (4, 7)]\n"
     ]
    }
   ],
   "source": [
    "a = (1, 2, 3, 4)\n",
    "b = (4, 5, 6, 7)\n",
    "\n",
    "print(tuple(zip(a, b)))\n",
    "print(list(zip(a, b)))"
   ]
  },
  {
   "cell_type": "markdown",
   "id": "b2461de4",
   "metadata": {},
   "source": [
    "### Sets\n",
    "* A set in Python is an unordered collection of unique elements. It is defined by enclosing elements within curly braces {} or by using the set() constructor. \n",
    "* Sets do not allow duplicate elements.\n",
    "* Sets differ from lists in that they are unordered and do not allow duplicates.\n"
   ]
  },
  {
   "cell_type": "code",
   "execution_count": 1,
   "id": "3d822729",
   "metadata": {},
   "outputs": [],
   "source": [
    "# t = {1, 2, True, (1,), (True,), (1, True)}"
   ]
  },
  {
   "cell_type": "code",
   "execution_count": 1,
   "id": "07384b73",
   "metadata": {},
   "outputs": [
    {
     "data": {
      "text/plain": [
       "{(1, True), (1,), 1, 2}"
      ]
     },
     "execution_count": 1,
     "metadata": {},
     "output_type": "execute_result"
    }
   ],
   "source": [
    "t = {1, 2 , (1,), True, (1, True), (True,)}\n",
    "t"
   ]
  },
  {
   "cell_type": "code",
   "execution_count": 2,
   "id": "36ef7738",
   "metadata": {},
   "outputs": [
    {
     "data": {
      "text/plain": [
       "{(True,), True}"
      ]
     },
     "execution_count": 2,
     "metadata": {},
     "output_type": "execute_result"
    }
   ],
   "source": [
    "t1 = {(True,), True, 1}\n",
    "t1"
   ]
  },
  {
   "cell_type": "code",
   "execution_count": 3,
   "id": "b0476ea9",
   "metadata": {},
   "outputs": [
    {
     "name": "stdout",
     "output_type": "stream",
     "text": [
      "True\n"
     ]
    }
   ],
   "source": [
    "# order doesn't matter \n",
    "s1 = {1, 2, 3, 4}\n",
    "s2 = {2, 3, 1, 4}\n",
    "\n",
    "print(s1 == s2)"
   ]
  },
  {
   "cell_type": "code",
   "execution_count": 4,
   "id": "21b6e12a",
   "metadata": {},
   "outputs": [],
   "source": [
    "# hashing controls the index position (can'ṭ access the elements by index position in sets)\n"
   ]
  },
  {
   "cell_type": "markdown",
   "id": "300c66c4",
   "metadata": {},
   "source": [
    "### Set Operations "
   ]
  },
  {
   "cell_type": "code",
   "execution_count": 5,
   "id": "a1d59680",
   "metadata": {},
   "outputs": [
    {
     "data": {
      "text/plain": [
       "{1, 2, 3, 4, 5, 6, 7, 8}"
      ]
     },
     "execution_count": 5,
     "metadata": {},
     "output_type": "execute_result"
    }
   ],
   "source": [
    "s1 = {1, 2, 3, 4, 5}\n",
    "s2 = {4, 5, 6, 7, 8}\n",
    "\n",
    "# Union()\n",
    "s1 | s2"
   ]
  },
  {
   "cell_type": "code",
   "execution_count": 6,
   "id": "5d1ab12f",
   "metadata": {},
   "outputs": [
    {
     "data": {
      "text/plain": [
       "{4, 5}"
      ]
     },
     "execution_count": 6,
     "metadata": {},
     "output_type": "execute_result"
    }
   ],
   "source": [
    "# intersection \n",
    "s1 & s2"
   ]
  },
  {
   "cell_type": "code",
   "execution_count": 7,
   "id": "9e32af3e",
   "metadata": {},
   "outputs": [
    {
     "data": {
      "text/plain": [
       "{1, 2, 3}"
      ]
     },
     "execution_count": 7,
     "metadata": {},
     "output_type": "execute_result"
    }
   ],
   "source": [
    "s1 - s2 "
   ]
  },
  {
   "cell_type": "code",
   "execution_count": 8,
   "id": "87bd8af3",
   "metadata": {},
   "outputs": [
    {
     "data": {
      "text/plain": [
       "{6, 7, 8}"
      ]
     },
     "execution_count": 8,
     "metadata": {},
     "output_type": "execute_result"
    }
   ],
   "source": [
    "s2 - s1"
   ]
  },
  {
   "cell_type": "code",
   "execution_count": 9,
   "id": "066695b0",
   "metadata": {},
   "outputs": [
    {
     "data": {
      "text/plain": [
       "{1, 2, 3, 6, 7, 8}"
      ]
     },
     "execution_count": 9,
     "metadata": {},
     "output_type": "execute_result"
    }
   ],
   "source": [
    "# symmetric differnce (common la sodun baki sagle)\n",
    "s1 ^ s2"
   ]
  },
  {
   "cell_type": "code",
   "execution_count": 10,
   "id": "5d751a3a",
   "metadata": {},
   "outputs": [
    {
     "data": {
      "text/plain": [
       "False"
      ]
     },
     "execution_count": 10,
     "metadata": {},
     "output_type": "execute_result"
    }
   ],
   "source": [
    "# membership test \n",
    "# 1 in s1\n",
    "1 in s2"
   ]
  },
  {
   "cell_type": "code",
   "execution_count": 11,
   "id": "01243439",
   "metadata": {},
   "outputs": [
    {
     "name": "stdout",
     "output_type": "stream",
     "text": [
      "1\n",
      "2\n",
      "3\n",
      "4\n",
      "5\n"
     ]
    }
   ],
   "source": [
    "# Iteration (loops)\n",
    "for i in s1:\n",
    "    print(i)"
   ]
  },
  {
   "cell_type": "markdown",
   "id": "a5e029fe",
   "metadata": {},
   "source": [
    "### Set Functions "
   ]
  },
  {
   "cell_type": "code",
   "execution_count": 12,
   "id": "a4968344",
   "metadata": {},
   "outputs": [
    {
     "data": {
      "text/plain": [
       "5"
      ]
     },
     "execution_count": 12,
     "metadata": {},
     "output_type": "execute_result"
    }
   ],
   "source": [
    "len(s1)"
   ]
  },
  {
   "cell_type": "code",
   "execution_count": 13,
   "id": "38d65989",
   "metadata": {},
   "outputs": [
    {
     "data": {
      "text/plain": [
       "15"
      ]
     },
     "execution_count": 13,
     "metadata": {},
     "output_type": "execute_result"
    }
   ],
   "source": [
    "sum(s1)"
   ]
  },
  {
   "cell_type": "code",
   "execution_count": 14,
   "id": "30f867f4",
   "metadata": {},
   "outputs": [
    {
     "data": {
      "text/plain": [
       "1"
      ]
     },
     "execution_count": 14,
     "metadata": {},
     "output_type": "execute_result"
    }
   ],
   "source": [
    "min(s1)"
   ]
  },
  {
   "cell_type": "code",
   "execution_count": 15,
   "id": "428f1698",
   "metadata": {},
   "outputs": [
    {
     "data": {
      "text/plain": [
       "8"
      ]
     },
     "execution_count": 15,
     "metadata": {},
     "output_type": "execute_result"
    }
   ],
   "source": [
    "max(s2)"
   ]
  },
  {
   "cell_type": "code",
   "execution_count": 16,
   "id": "7341a7f6",
   "metadata": {},
   "outputs": [
    {
     "data": {
      "text/plain": [
       "[5, 4, 3, 2, 1]"
      ]
     },
     "execution_count": 16,
     "metadata": {},
     "output_type": "execute_result"
    }
   ],
   "source": [
    "sorted(s1, reverse=True) # result in list "
   ]
  },
  {
   "cell_type": "code",
   "execution_count": 17,
   "id": "9ba96851",
   "metadata": {},
   "outputs": [
    {
     "data": {
      "text/plain": [
       "{1, 2, 3, 4, 5, 6, 7, 8}"
      ]
     },
     "execution_count": 17,
     "metadata": {},
     "output_type": "execute_result"
    }
   ],
   "source": [
    "# union\n",
    "s1.union(s2)"
   ]
  },
  {
   "cell_type": "code",
   "execution_count": 18,
   "id": "d551d182",
   "metadata": {},
   "outputs": [],
   "source": [
    "# update(): union result in s1 and s2 remains same \n",
    "s1.update(s2)"
   ]
  },
  {
   "cell_type": "code",
   "execution_count": 19,
   "id": "2bac6246",
   "metadata": {},
   "outputs": [
    {
     "data": {
      "text/plain": [
       "{1, 2, 3, 4, 5, 6, 7, 8}"
      ]
     },
     "execution_count": 19,
     "metadata": {},
     "output_type": "execute_result"
    }
   ],
   "source": [
    "s1"
   ]
  },
  {
   "cell_type": "code",
   "execution_count": 20,
   "id": "9f5585c3",
   "metadata": {},
   "outputs": [
    {
     "data": {
      "text/plain": [
       "{4, 5, 6, 7, 8}"
      ]
     },
     "execution_count": 20,
     "metadata": {},
     "output_type": "execute_result"
    }
   ],
   "source": [
    "s2"
   ]
  },
  {
   "cell_type": "code",
   "execution_count": 21,
   "id": "43283ad9",
   "metadata": {},
   "outputs": [
    {
     "data": {
      "text/plain": [
       "{4, 5}"
      ]
     },
     "execution_count": 21,
     "metadata": {},
     "output_type": "execute_result"
    }
   ],
   "source": [
    "# intersection()\n",
    "s1 = {1, 2, 3, 4, 5}\n",
    "s2 = {4, 5, 6, 7, 8}\n",
    "s1.intersection(s2)"
   ]
  },
  {
   "cell_type": "code",
   "execution_count": 22,
   "id": "f20d615c",
   "metadata": {},
   "outputs": [
    {
     "name": "stdout",
     "output_type": "stream",
     "text": [
      "{4, 5}\n",
      "{4, 5, 6, 7, 8}\n"
     ]
    }
   ],
   "source": [
    "s1.intersection_update(s2)\n",
    "print(s1)\n",
    "print(s2)"
   ]
  },
  {
   "cell_type": "code",
   "execution_count": 23,
   "id": "5d1e4c7d",
   "metadata": {},
   "outputs": [
    {
     "data": {
      "text/plain": [
       "{1, 2, 3}"
      ]
     },
     "execution_count": 23,
     "metadata": {},
     "output_type": "execute_result"
    }
   ],
   "source": [
    "# difference()/difference_update()\n",
    "s1 = {1, 2, 3, 4, 5}\n",
    "s2 = {4, 5, 6, 7, 8}\n",
    "s1.difference(s2)"
   ]
  },
  {
   "cell_type": "code",
   "execution_count": 24,
   "id": "0c3f752c",
   "metadata": {},
   "outputs": [
    {
     "name": "stdout",
     "output_type": "stream",
     "text": [
      "{1, 2, 3}\n",
      "{4, 5, 6, 7, 8}\n"
     ]
    }
   ],
   "source": [
    "s1.difference_update(s2)\n",
    "print(s1)\n",
    "print(s2)"
   ]
  },
  {
   "cell_type": "code",
   "execution_count": 25,
   "id": "209f749d",
   "metadata": {},
   "outputs": [
    {
     "data": {
      "text/plain": [
       "{1, 2, 3, 6, 7, 8}"
      ]
     },
     "execution_count": 25,
     "metadata": {},
     "output_type": "execute_result"
    }
   ],
   "source": [
    "# symmetric_differnce()/symmetric_difference_update()\n",
    "s1 = {1, 2, 3, 4, 5}\n",
    "s2 = {4, 5, 6, 7, 8}\n",
    "\n",
    "s1.symmetric_difference(s2)"
   ]
  },
  {
   "cell_type": "code",
   "execution_count": 26,
   "id": "53929004",
   "metadata": {},
   "outputs": [
    {
     "name": "stdout",
     "output_type": "stream",
     "text": [
      "{1, 2, 3, 6, 7, 8}\n",
      "{4, 5, 6, 7, 8}\n"
     ]
    }
   ],
   "source": [
    "s1.symmetric_difference_update(s2)\n",
    "print(s1)\n",
    "print(s2)"
   ]
  },
  {
   "cell_type": "code",
   "execution_count": 27,
   "id": "fb3a7879",
   "metadata": {},
   "outputs": [
    {
     "data": {
      "text/plain": [
       "True"
      ]
     },
     "execution_count": 27,
     "metadata": {},
     "output_type": "execute_result"
    }
   ],
   "source": [
    "# isdisjoint()/issubset()/issuperset()\n",
    "\n",
    "# no items are common in disjoint sets \n",
    "s1 = {1, 2, 3, 4}\n",
    "s2 = {9, 10, 5, 6}\n",
    "\n",
    "s1.isdisjoint(s2)"
   ]
  },
  {
   "cell_type": "code",
   "execution_count": 28,
   "id": "ca57beab",
   "metadata": {},
   "outputs": [
    {
     "data": {
      "text/plain": [
       "True"
      ]
     },
     "execution_count": 28,
     "metadata": {},
     "output_type": "execute_result"
    }
   ],
   "source": [
    "s1 = {1, 2, 3, 4, 5}\n",
    "s2 = {3, 4, 5}\n",
    "s2.issubset(s1)"
   ]
  },
  {
   "cell_type": "code",
   "execution_count": 29,
   "id": "f10505b8",
   "metadata": {},
   "outputs": [
    {
     "data": {
      "text/plain": [
       "True"
      ]
     },
     "execution_count": 29,
     "metadata": {},
     "output_type": "execute_result"
    }
   ],
   "source": [
    "s1 = {1, 2, 3, 4, 5, 6}\n",
    "s2 = {4, 5, 6}\n",
    "s1.issuperset(s2)"
   ]
  },
  {
   "cell_type": "code",
   "execution_count": 30,
   "id": "085fc62a",
   "metadata": {},
   "outputs": [
    {
     "name": "stdout",
     "output_type": "stream",
     "text": [
      "2181211664480\n",
      "2181211665600\n"
     ]
    }
   ],
   "source": [
    "# copy()\n",
    "s1 = {1, 2, 3, 4, 5, 6}\n",
    "s2 = s1.copy()\n",
    "\n",
    "print(id(s1))\n",
    "print(id(s2))"
   ]
  },
  {
   "cell_type": "markdown",
   "id": "1ba9a05b",
   "metadata": {},
   "source": [
    "### Frozenset \n",
    "* immutable version of Python set object\n",
    "* works => all read operations \n",
    "* does not works => write operations "
   ]
  },
  {
   "cell_type": "code",
   "execution_count": 37,
   "id": "9ce54769",
   "metadata": {},
   "outputs": [
    {
     "data": {
      "text/plain": [
       "frozenset({1, 2, 3, 5})"
      ]
     },
     "execution_count": 37,
     "metadata": {},
     "output_type": "execute_result"
    }
   ],
   "source": [
    "# create frozenset \n",
    "# s1 = frozenset({1, 2, 3, 4})\n",
    "s1 = frozenset((1, 2, 3, 5))\n",
    "# s2 = frozenset([1, 2, 3, 4, 5])\n",
    "s1"
   ]
  },
  {
   "cell_type": "code",
   "execution_count": 43,
   "id": "3aac03a3",
   "metadata": {},
   "outputs": [
    {
     "name": "stdout",
     "output_type": "stream",
     "text": [
      "frozenset({1, frozenset({2, 3, 4, 7}), 5})\n"
     ]
    }
   ],
   "source": [
    "fs = frozenset((1, 5, frozenset((2, 3, 4, 7))))\n",
    "print(fs)"
   ]
  },
  {
   "cell_type": "markdown",
   "id": "9b3c3bbf",
   "metadata": {},
   "source": [
    "### Set Comprehension"
   ]
  },
  {
   "cell_type": "code",
   "execution_count": 45,
   "id": "3b8e9693",
   "metadata": {},
   "outputs": [
    {
     "data": {
      "text/plain": [
       "{5, 6, 7, 8, 9, 10}"
      ]
     },
     "execution_count": 45,
     "metadata": {},
     "output_type": "execute_result"
    }
   ],
   "source": [
    "{i for i in range(1, 11) if i >= 5}"
   ]
  },
  {
   "cell_type": "code",
   "execution_count": 47,
   "id": "4ebc4467",
   "metadata": {},
   "outputs": [
    {
     "name": "stdout",
     "output_type": "stream",
     "text": [
      "[]\n"
     ]
    }
   ],
   "source": [
    "print([]*3)"
   ]
  },
  {
   "cell_type": "code",
   "execution_count": null,
   "id": "637104dd",
   "metadata": {},
   "outputs": [],
   "source": []
  }
 ],
 "metadata": {
  "kernelspec": {
   "display_name": "Python 3 (ipykernel)",
   "language": "python",
   "name": "python3"
  },
  "language_info": {
   "codemirror_mode": {
    "name": "ipython",
    "version": 3
   },
   "file_extension": ".py",
   "mimetype": "text/x-python",
   "name": "python",
   "nbconvert_exporter": "python",
   "pygments_lexer": "ipython3",
   "version": "3.10.4"
  }
 },
 "nbformat": 4,
 "nbformat_minor": 5
}

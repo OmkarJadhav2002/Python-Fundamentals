{
 "cells": [
  {
   "cell_type": "markdown",
   "id": "66989148",
   "metadata": {},
   "source": [
    "### Arrays Vs. Lists \n",
    "* Fixed size, Dynamic Size\n",
    "* Homogenous Data, Heterogenous Data (since we are using referential array(storing the address, not the value))\n",
    "* High Speed, Low Speed\n",
    "* Occupy less memory, Occupy more memory\n",
    "\n",
    "### Charecteristics of List\n",
    "* Ordered - Order of items stored in list is important\n",
    "* Changeable/Mutable - You can change the list \n",
    "* Heterogenous - You can add elements with multiple datatypes\n",
    "* Can contain duplicates - list can contain duplicate elements\n",
    "* Dynamic - lists are dynamic\n",
    "* Nested - List can be nested (list within a list)\n",
    "* Slicing/Indexing - items can be accessed using slicing operations\n",
    "* You can add any type of object in list***\n",
    "* Python list can store any kind of python object\n",
    "\n",
    "### IMP Points \n",
    "* Dynamic Resizing:\n",
    "    * Lists: Lists are naturally dynamic; you can add or remove elements without specifying the size beforehand. Appending elements to a list is straightforward and doesn't require any special considerations.\n",
    "    * NumPy Arrays: While NumPy arrays can also be resized dynamically using methods like `np.append()`, the process involves creating a new array with increased size, copying the data from the old array to the new one, and adding the new element(s). This operation can be inefficient and result in increased memory usage and computational overhead compared to appending elements to a list.\n",
    "\n",
    "* If you want to store anothe datatype element into np array you can do it by mentioning the dtype=\"dtype\" in np.array(\"Omkar\", dtype=\"str\")\n",
    "\n",
    "\n",
    "* `sort()`: sort() is a method that is available for lists in Python. It sorts the list in place, which means it modifies the original list and does not create a new one.\n",
    "* `sorted()`: The sorted() function does not modify the original list, instead, it creates and returns a new list containing the sorted elements.\n",
    "\n",
    "\n",
    "* Lists are risky to use, as the lists are mutable. You can change the content of lists. \n",
    "\n",
    "### IMP Questions\n",
    "* **Que.1: What are lists in Python?**\n",
    "    * List is a inbuilt data type in python where you can store multiple items under 1 name. More typically, lists act like dynamic array which means you can add more items on the fly.\n",
    "    * Lists are mutable, meaning their contents can be modified after creation.\n",
    "    \n",
    "    \n",
    "* **Que.2: How lists are stored in memory?**\n",
    "    * Python lists are stored in memory as contiguous blocks of memory that holds references to the actual objects (elements) they contain. \n",
    "    * The array or contiguous memory where the references are stored are called ar referencing array.\n",
    "    * This means that a Python list doesn't store the actual data of its elements directly but rather holds references (pointers) to the memory locations where the data for those elements is stored.\n",
    "    * Consume more time and more memory. \n",
    "    \n",
    "* **Que.3: How lists are stored in memory?**\n",
    "\n",
    "\n",
    "* **Que.4: How lists are stored in memory?**\n",
    "\n",
    "\n",
    "* **Que.5: How lists are stored in memory?**\n",
    "\n",
    "\n",
    "* **Que.6: How lists are stored in memory?**\n",
    "\n",
    "\n",
    "* **Que.7: How lists are stored in memory?**\n",
    "\n",
    "\n",
    "* **Que.8: How lists are stored in memory?**\n",
    "\n",
    "\n",
    "* **Que.9: How lists are stored in memory?**\n",
    "\n",
    "\n",
    "* **Que.10: How lists are stored in memory?**"
   ]
  },
  {
   "cell_type": "code",
   "execution_count": 198,
   "id": "dcd618ef",
   "metadata": {},
   "outputs": [
    {
     "name": "stdout",
     "output_type": "stream",
     "text": [
      "[<built-in function print>, <bound method Kernel.raw_input of <ipykernel.ipkernel.IPythonKernel object at 0x0000023610ECC7C0>>, 1, True]\n"
     ]
    }
   ],
   "source": [
    "# You can add any type of object in list (freedom in Python)\n",
    "l = [print, input, 1, True]\n",
    "print(l)"
   ]
  },
  {
   "cell_type": "code",
   "execution_count": 6,
   "id": "2a13be6b",
   "metadata": {},
   "outputs": [
    {
     "name": "stdout",
     "output_type": "stream",
     "text": [
      "2431150063856\n",
      "2431150063888\n",
      "2431150063920\n",
      "2431150063856\n",
      "2431150063888\n",
      "2431150063920\n"
     ]
    }
   ],
   "source": [
    "l = [1, 2, 3]\n",
    "print(id(1))\n",
    "print(id(2))\n",
    "print(id(3))\n",
    "print(id(l[0]))\n",
    "print(id(l[1]))\n",
    "print(id(l[2]))"
   ]
  },
  {
   "cell_type": "markdown",
   "id": "3cd426e6",
   "metadata": {},
   "source": [
    "### Creating a List"
   ]
  },
  {
   "cell_type": "code",
   "execution_count": 20,
   "id": "4be634cb",
   "metadata": {},
   "outputs": [
    {
     "name": "stdout",
     "output_type": "stream",
     "text": [
      "[1, 2, 3, 4, 5, 6]\n",
      "[1, 2, 3, 4, [5, 6]]\n",
      "[1, 2, 3, 4, [[1, 2], [12, 34]]]\n",
      "[[[2, 5], [6, 7]], [[7, 2], [34, 23]]]\n",
      "[12, True, 'Hello Omi Dada', 123.23, (5+6j)]\n"
     ]
    }
   ],
   "source": [
    "# Empty \n",
    "L = []\n",
    "\n",
    "# 1D list (Homogenous)\n",
    "print([1, 2, 3, 4, 5, 6])\n",
    "\n",
    "# 2D (Heterogenous)\n",
    "print([1, 2, 3, 4, [5, 6]])\n",
    "\n",
    "# 3D (Heterogenous)\n",
    "print([1, 2, 3, 4, [[1, 2], [12, 34]]])\n",
    "\n",
    "# 3D (Homogenous)***\n",
    "print([[[2, 5], [6, 7]], [[7, 2], [34, 23]]])\n",
    "\n",
    "# Heterogenous list: List with different datatype elements \n",
    "print([12, True, \"Hello Omi Dada\", 123.23, 5+6j])"
   ]
  },
  {
   "cell_type": "markdown",
   "id": "b2be8d69",
   "metadata": {},
   "source": [
    "### Assessing the items from list"
   ]
  },
  {
   "cell_type": "markdown",
   "id": "74cdcf22",
   "metadata": {},
   "source": [
    "#### Indexing\n",
    "* Positive Indexing (left->right)\n",
    "* Negative Indexing (right->left)"
   ]
  },
  {
   "cell_type": "code",
   "execution_count": 21,
   "id": "a27a4428",
   "metadata": {},
   "outputs": [
    {
     "data": {
      "text/plain": [
       "3"
      ]
     },
     "execution_count": 21,
     "metadata": {},
     "output_type": "execute_result"
    }
   ],
   "source": [
    "# 1D\n",
    "# L = [12, 12, 34, 45, 89, 90]\n",
    "# L[-2]\n",
    "# L[2]\n",
    "\n",
    "# 2D\n",
    "# L = [1, 2, 3, [4, 5]]\n",
    "# L[3][0]\n",
    "\n",
    "# 3D\n",
    "# L = [[[1, 3], [5, 6], [8, 9]]]\n",
    "# L[0][1][0]\n",
    "\n",
    "# L = [[[-1, 0], [5, 3], [23, 12, 90]]]\n",
    "# L[0][2][2]\n",
    "\n",
    "L = [[[1, 3], [4, 6]], [[23, 1], [2, 4]]]\n",
    "L[0][0][1]\n",
    "# L[-1][0][1]"
   ]
  },
  {
   "cell_type": "markdown",
   "id": "26e04c9b",
   "metadata": {},
   "source": [
    "#### Slicing "
   ]
  },
  {
   "cell_type": "code",
   "execution_count": 22,
   "id": "9228034b",
   "metadata": {},
   "outputs": [
    {
     "data": {
      "text/plain": [
       "[1, 4, 7]"
      ]
     },
     "execution_count": 22,
     "metadata": {},
     "output_type": "execute_result"
    }
   ],
   "source": [
    "L = [1, 2, 4, 5, 7, 9]\n",
    "# fetching alternate items\n",
    "L[0::2] "
   ]
  },
  {
   "cell_type": "markdown",
   "id": "a6518080",
   "metadata": {},
   "source": [
    "### Adding items to list\n",
    "* append - adding item(single item at a time) at the end of list\n",
    "* extend - adding multiple items at a time to a list\n",
    "* insert - adding item at a specifinc position in a list"
   ]
  },
  {
   "cell_type": "code",
   "execution_count": 32,
   "id": "fc1ab90f",
   "metadata": {},
   "outputs": [
    {
     "data": {
      "text/plain": [
       "[1, 2, 23, 43, 'Omkar Dada']"
      ]
     },
     "execution_count": 32,
     "metadata": {},
     "output_type": "execute_result"
    }
   ],
   "source": [
    "# append()\n",
    "L = [1, 2, 23, 43]\n",
    "L.append(\"Omkar Dada\")\n",
    "L"
   ]
  },
  {
   "cell_type": "code",
   "execution_count": 33,
   "id": "1d7bff4d",
   "metadata": {},
   "outputs": [
    {
     "name": "stdout",
     "output_type": "stream",
     "text": [
      "[1, 2, 23, 43, 'Omkar Dada', 12, 'DML', 'RR', 'DLL']\n"
     ]
    }
   ],
   "source": [
    "# extend()\n",
    "L.extend([12, \"DML\", \"RR\"])\n",
    "# adds DLL as whole \n",
    "L.extend([\"DLL\"]) \n",
    "\n",
    "# Split the string and then adds to the list \n",
    "# L.extend(\"DLL\")\n",
    "print(L)"
   ]
  },
  {
   "cell_type": "code",
   "execution_count": 34,
   "id": "af5af888",
   "metadata": {},
   "outputs": [
    {
     "data": {
      "text/plain": [
       "[1, 2, 100, 23, 43, 'Omkar Dada', 12, 'DML', 'RR', 'DLL']"
      ]
     },
     "execution_count": 34,
     "metadata": {},
     "output_type": "execute_result"
    }
   ],
   "source": [
    "# insert()\n",
    "L.insert(2, 100)\n",
    "L"
   ]
  },
  {
   "cell_type": "markdown",
   "id": "be2c0ac7",
   "metadata": {},
   "source": [
    "### Editing items in a List"
   ]
  },
  {
   "cell_type": "code",
   "execution_count": 103,
   "id": "981b43bb",
   "metadata": {},
   "outputs": [
    {
     "data": {
      "text/plain": [
       "[12, 10, 20, 10, 0]"
      ]
     },
     "execution_count": 103,
     "metadata": {},
     "output_type": "execute_result"
    }
   ],
   "source": [
    "l = [12, 34, 45, 10, 19]\n",
    "\n",
    "# editing using indexing \n",
    "l[-1] = 0\n",
    "\n",
    "# editing using slicing\n",
    "l[1:3] = [10, 20]\n",
    "l"
   ]
  },
  {
   "cell_type": "markdown",
   "id": "87e731e7",
   "metadata": {},
   "source": [
    "### Deleting items from a list\n",
    "* del()\n",
    "* remove()\n",
    "* pop() \n",
    "* clear()"
   ]
  },
  {
   "cell_type": "code",
   "execution_count": 41,
   "id": "cead9792",
   "metadata": {},
   "outputs": [
    {
     "name": "stdout",
     "output_type": "stream",
     "text": [
      "[1, 2, 3, 8]\n",
      "[1, 2, 3]\n"
     ]
    }
   ],
   "source": [
    "# del\n",
    "l = [1, 2, 3, 8]\n",
    "print(l)\n",
    "# del l\n",
    "del l[-1]\n",
    "print(l)"
   ]
  },
  {
   "cell_type": "code",
   "execution_count": 42,
   "id": "eac1896d",
   "metadata": {},
   "outputs": [
    {
     "name": "stdout",
     "output_type": "stream",
     "text": [
      "[1, 2]\n"
     ]
    }
   ],
   "source": [
    "# remove(delete by value): used when you dont know where the element is (i.e when you dont know the index position of the element that you want do delete)\n",
    "# direct pass the value you want to delete \n",
    "l.remove(3)\n",
    "print(l)"
   ]
  },
  {
   "cell_type": "code",
   "execution_count": 38,
   "id": "700c3d2c",
   "metadata": {},
   "outputs": [
    {
     "data": {
      "text/plain": [
       "2"
      ]
     },
     "execution_count": 38,
     "metadata": {},
     "output_type": "execute_result"
    }
   ],
   "source": [
    "# pop() -> default index = -1 (deletes last wala element)\n",
    "l.pop(1)"
   ]
  },
  {
   "cell_type": "code",
   "execution_count": 39,
   "id": "4f7cf654",
   "metadata": {},
   "outputs": [
    {
     "data": {
      "text/plain": [
       "[]"
      ]
     },
     "execution_count": 39,
     "metadata": {},
     "output_type": "execute_result"
    }
   ],
   "source": [
    "# clear() - deleting all items/making a list empty\n",
    "l.clear()\n",
    "l"
   ]
  },
  {
   "cell_type": "markdown",
   "id": "d7a18b01",
   "metadata": {},
   "source": [
    "### Operations on Lists\n",
    "\n",
    "* Arithmetic: Addition, Subtraction, Multiplication, Division \n",
    "* Membership: in/not in \n",
    "* Loop: Accessing elements through looping  "
   ]
  },
  {
   "cell_type": "code",
   "execution_count": 43,
   "id": "4e945842",
   "metadata": {},
   "outputs": [
    {
     "name": "stdout",
     "output_type": "stream",
     "text": [
      "[1, 2, 3, 4, 5, 6, 7, 8, 9, 10]\n",
      "[1, 2, 3, 4, 5, 1, 2, 3, 4, 5]\n"
     ]
    }
   ],
   "source": [
    "l1 = [1, 2, 3, 4, 5]\n",
    "l2 = [6, 7, 8, 9, 10]\n",
    "\n",
    "# merging \n",
    "print(l1 + l2)\n",
    "print(l1*2)"
   ]
  },
  {
   "cell_type": "code",
   "execution_count": 46,
   "id": "41478a67",
   "metadata": {},
   "outputs": [
    {
     "data": {
      "text/plain": [
       "True"
      ]
     },
     "execution_count": 46,
     "metadata": {},
     "output_type": "execute_result"
    }
   ],
   "source": [
    "# Membership\n",
    "l3 = [12, 34, 1, [4, 6]]\n",
    "# 4 in l3\n",
    "[4, 6] in l3"
   ]
  },
  {
   "cell_type": "code",
   "execution_count": 47,
   "id": "33b661e2",
   "metadata": {},
   "outputs": [
    {
     "name": "stdout",
     "output_type": "stream",
     "text": [
      "[[2, 4], [6, 7]]\n",
      "[[9, 3], [1, 4]]\n"
     ]
    }
   ],
   "source": [
    "# loop\n",
    "# for i in l3:\n",
    "#     print(i)\n",
    "\n",
    "l4 = [[[2, 4], [6, 7]], [[9, 3], [1, 4]]]\n",
    "\n",
    "for i in l4:\n",
    "    print(i)"
   ]
  },
  {
   "cell_type": "markdown",
   "id": "de6c1672",
   "metadata": {},
   "source": [
    "### List Functions"
   ]
  },
  {
   "cell_type": "code",
   "execution_count": 161,
   "id": "e64fab3a",
   "metadata": {},
   "outputs": [
    {
     "name": "stdout",
     "output_type": "stream",
     "text": [
      "9\n",
      "1\n",
      "9\n",
      "[1, 2, 4, 5, 5, 7, 7, 7, 9]\n"
     ]
    }
   ],
   "source": [
    "# len/min/max/sorted\n",
    "l = [1, 9, 5, 4, 7, 5, 7, 2, 7]\n",
    "print(len(l))\n",
    "print(min(l))\n",
    "print(max(l))\n",
    "print(sorted(l))"
   ]
  },
  {
   "cell_type": "code",
   "execution_count": 162,
   "id": "1c6ce1f1",
   "metadata": {},
   "outputs": [
    {
     "data": {
      "text/plain": [
       "3"
      ]
     },
     "execution_count": 162,
     "metadata": {},
     "output_type": "execute_result"
    }
   ],
   "source": [
    "# count() - gives the frequency count of given item in a list\n",
    "l.count(7)"
   ]
  },
  {
   "cell_type": "code",
   "execution_count": 163,
   "id": "a5499a19",
   "metadata": {},
   "outputs": [
    {
     "data": {
      "text/plain": [
       "0"
      ]
     },
     "execution_count": 163,
     "metadata": {},
     "output_type": "execute_result"
    }
   ],
   "source": [
    "# index()\n",
    "l.index(1)"
   ]
  },
  {
   "cell_type": "code",
   "execution_count": 167,
   "id": "f5927f8d",
   "metadata": {},
   "outputs": [
    {
     "name": "stdout",
     "output_type": "stream",
     "text": [
      "[1, 9, 5, 4, 7, 5, 7, 2, 7]\n"
     ]
    }
   ],
   "source": [
    "# reverse() - permanant operation\n",
    "l.reverse()\n",
    "print(l)"
   ]
  },
  {
   "cell_type": "code",
   "execution_count": 170,
   "id": "a744051a",
   "metadata": {},
   "outputs": [
    {
     "name": "stdout",
     "output_type": "stream",
     "text": [
      "[1, 2, 4, 5, 5, 7, 7, 7, 9]\n"
     ]
    }
   ],
   "source": [
    "# sort() - permanant operation/changes  \n",
    "l.sort()\n",
    "print(l)"
   ]
  },
  {
   "cell_type": "code",
   "execution_count": 175,
   "id": "3cac0631",
   "metadata": {},
   "outputs": [
    {
     "data": {
      "text/plain": [
       "[1, 2, 4, 5, 5, 7, 7, 7, 9]"
      ]
     },
     "execution_count": 175,
     "metadata": {},
     "output_type": "execute_result"
    }
   ],
   "source": [
    "# sorted() - no permanant changes, creates new sorted list\n",
    "sorted(l)"
   ]
  },
  {
   "cell_type": "code",
   "execution_count": 176,
   "id": "a4da7aed",
   "metadata": {},
   "outputs": [
    {
     "name": "stdout",
     "output_type": "stream",
     "text": [
      "[4, 12, 34, 12, 90]\n",
      "2431264932032\n",
      "[4, 12, 34, 12, 90]\n",
      "2431264869760\n"
     ]
    }
   ],
   "source": [
    "# copy()\n",
    "l = [4, 12, 34, 12, 90]\n",
    "print(l)\n",
    "print(id(l))\n",
    "l1 = l.copy()\n",
    "print(l1)\n",
    "print(id(l1))"
   ]
  },
  {
   "cell_type": "markdown",
   "id": "32988aaa",
   "metadata": {},
   "source": [
    "### List Comprehension ***\n",
    "- concise way of creating list/shortcut way to create list\n",
    "\n",
    "**newlist = [expression for item in iterable if condition == True]**"
   ]
  },
  {
   "cell_type": "code",
   "execution_count": 178,
   "id": "fe910a75",
   "metadata": {},
   "outputs": [
    {
     "name": "stdout",
     "output_type": "stream",
     "text": [
      "[1, 2, 3, 4, 5, 6, 7, 8, 9, 10]\n"
     ]
    }
   ],
   "source": [
    "# l = []\n",
    "# for i in range(11):\n",
    "#     l.append(i)\n",
    "# print(l)\n",
    "\n",
    "# list comprehension\n",
    "l = [i for i in range(1, 11)]\n",
    "print(l)"
   ]
  },
  {
   "cell_type": "code",
   "execution_count": 181,
   "id": "2314bded",
   "metadata": {},
   "outputs": [
    {
     "name": "stdout",
     "output_type": "stream",
     "text": [
      "[-18, -2, -16]\n"
     ]
    }
   ],
   "source": [
    "# scalar multiplication with vector\n",
    "l = [9, 1, 8]\n",
    "s = -2\n",
    "\n",
    "# res = []\n",
    "# for i in l:\n",
    "#     res.append(i*s)\n",
    "# print(res)\n",
    "\n",
    "# LC\n",
    "res = [s*i for i in l]\n",
    "print(res)"
   ]
  },
  {
   "cell_type": "code",
   "execution_count": 185,
   "id": "768850a7",
   "metadata": {},
   "outputs": [
    {
     "name": "stdout",
     "output_type": "stream",
     "text": [
      "[4, 16, 36, 64]\n"
     ]
    }
   ],
   "source": [
    "# finding the square of each item\n",
    "l = [2, 4, 6, 8]\n",
    "# Iterative approach\n",
    "# res = []\n",
    "# for i in l:\n",
    "#     res.append(i*i)\n",
    "# print(res)\n",
    "\n",
    "# LC\n",
    "res = [i**2 for i in l]\n",
    "print(res)"
   ]
  },
  {
   "cell_type": "code",
   "execution_count": 187,
   "id": "f8fbc39d",
   "metadata": {},
   "outputs": [
    {
     "name": "stdout",
     "output_type": "stream",
     "text": [
      "[5, 10, 15, 20, 25, 30, 35, 40, 45, 50]\n"
     ]
    }
   ],
   "source": [
    "res = [i for i in range(1, 51) if i%5==0]\n",
    "print(res)"
   ]
  },
  {
   "cell_type": "code",
   "execution_count": 189,
   "id": "7eb608e6",
   "metadata": {},
   "outputs": [
    {
     "data": {
      "text/plain": [
       "['Python', 'PHP']"
      ]
     },
     "execution_count": 189,
     "metadata": {},
     "output_type": "execute_result"
    }
   ],
   "source": [
    "languages = [\"C\", \"C++\", \"Python\", \"PHP\", \"Java\"]\n",
    "[language for language in languages if language.startswith('P')]"
   ]
  },
  {
   "cell_type": "code",
   "execution_count": 190,
   "id": "c0b66e4a",
   "metadata": {},
   "outputs": [
    {
     "data": {
      "text/plain": [
       "[2, 3, 4, 7, 4, 6, 8, 14, 6, 9, 12, 21, 8, 12, 16, 28, 10, 15, 20, 35]"
      ]
     },
     "execution_count": 190,
     "metadata": {},
     "output_type": "execute_result"
    }
   ],
   "source": [
    "# cartesian product\n",
    "l1 = [1, 2, 3, 4, 5]\n",
    "l2 = [2, 3, 4, 7]\n",
    "\n",
    "[i*j for i in l1 for j in l2]"
   ]
  },
  {
   "cell_type": "markdown",
   "id": "2e5ec075",
   "metadata": {},
   "source": [
    "### Traversing List\n",
    "* Two ways:\n",
    "    * itemwise\n",
    "    * indexwise"
   ]
  },
  {
   "cell_type": "code",
   "execution_count": 192,
   "id": "a9e29f63",
   "metadata": {},
   "outputs": [
    {
     "name": "stdout",
     "output_type": "stream",
     "text": [
      "2\n",
      "3\n",
      "4\n",
      "6\n",
      "7\n",
      "9\n"
     ]
    }
   ],
   "source": [
    "# itemwise\n",
    "l = [2, 3, 4, 6, 7, 9]\n",
    "for i in l:\n",
    "    print(i)"
   ]
  },
  {
   "cell_type": "code",
   "execution_count": 194,
   "id": "38c6842e",
   "metadata": {},
   "outputs": [
    {
     "name": "stdout",
     "output_type": "stream",
     "text": [
      "0\n",
      "1\n",
      "2\n",
      "3\n",
      "4\n",
      "5\n"
     ]
    }
   ],
   "source": [
    "# indexwise\n",
    "for i in range(len(l)):\n",
    "    print(i)\n",
    "#     print(l[i])"
   ]
  },
  {
   "cell_type": "markdown",
   "id": "378f5f92",
   "metadata": {},
   "source": [
    "### zip()"
   ]
  },
  {
   "cell_type": "code",
   "execution_count": 59,
   "id": "7dd89a43",
   "metadata": {},
   "outputs": [
    {
     "data": {
      "text/plain": [
       "[(2, 1), (3, 3), (12, 4), (12, 5), (2, 9)]"
      ]
     },
     "execution_count": 59,
     "metadata": {},
     "output_type": "execute_result"
    }
   ],
   "source": [
    "l1 = [2, 3, 12, 12, 2]\n",
    "l2 = [1, 3, 4, 5, 9, 10]\n",
    "\n",
    "list(zip(l1, l2))"
   ]
  },
  {
   "cell_type": "code",
   "execution_count": 48,
   "id": "e51effd2",
   "metadata": {},
   "outputs": [
    {
     "data": {
      "text/plain": [
       "[7, 9, 11, 13, 15]"
      ]
     },
     "execution_count": 48,
     "metadata": {},
     "output_type": "execute_result"
    }
   ],
   "source": [
    "[i+j for i, j in zip(l1, l2)]"
   ]
  },
  {
   "cell_type": "code",
   "execution_count": 69,
   "id": "99e6dcea",
   "metadata": {},
   "outputs": [
    {
     "name": "stdout",
     "output_type": "stream",
     "text": [
      "[2, 'Omkar', True, <class 'type'>, <built-in function print>, <built-in function len>]\n"
     ]
    }
   ],
   "source": [
    "# Python can store any kind of object\n",
    "li = [2, \"Omkar\", True, type, print, len]\n",
    "print(li)"
   ]
  },
  {
   "cell_type": "markdown",
   "id": "b4b44951",
   "metadata": {},
   "source": [
    "### Practice Questions "
   ]
  },
  {
   "cell_type": "code",
   "execution_count": 70,
   "id": "bded1b62",
   "metadata": {},
   "outputs": [
    {
     "name": "stdout",
     "output_type": "stream",
     "text": [
      "Enter a number: 12\n",
      "[2, 3, 5, 7, 11]\n"
     ]
    }
   ],
   "source": [
    "# Find the first n prime numbers\n",
    "def isPrime(num):\n",
    "    if num<=1:\n",
    "        return False \n",
    "    \n",
    "    for i in range(2, num):\n",
    "        if num%i == 0:\n",
    "            return False \n",
    "    return True \n",
    "\n",
    "n = int(input(\"Enter a number: \"))\n",
    "res = []\n",
    "for i in range(n+1):\n",
    "    if isPrime(i):\n",
    "        res.append(i) \n",
    "        \n",
    "print(res)"
   ]
  },
  {
   "cell_type": "markdown",
   "id": "19962023",
   "metadata": {},
   "source": [
    "#### Que.1: Combine two lists index-wise(columns wise)\n",
    "Write a program to add two lists index-wise. Create a new list that contains the 0th index item from both the list, then the 1st index item, and so on till the last element. any leftover items will get added at the end of the new list.\n",
    "\n",
    "list1 = [\"M\", \"na\", \"i\", \"Kh\"]\n",
    "\n",
    "list2 = [\"y\", \"me\", \"s\", \"an\"]"
   ]
  },
  {
   "cell_type": "code",
   "execution_count": 73,
   "id": "285f9b72",
   "metadata": {},
   "outputs": [
    {
     "name": "stdout",
     "output_type": "stream",
     "text": [
      "[['M', 'y'], ['na', 'me'], ['i', 's'], ['Kh', 'an']]\n"
     ]
    }
   ],
   "source": [
    "list1 = [\"M\", \"na\", \"i\", \"Kh\"]\n",
    "list2 = [\"y\", \"me\", \"s\", \"an\"] \n",
    "\n",
    "def add_lists(l1, l2):\n",
    "    res = []\n",
    "    for i, j in zip(l1, l2):\n",
    "        res.append([i, j]) \n",
    "        \n",
    "    return res \n",
    "\n",
    "print(add_lists(list1, list2))"
   ]
  },
  {
   "cell_type": "markdown",
   "id": "cd4e9ab0",
   "metadata": {},
   "source": [
    "#### Que.2: Add new item to list after a specified item\n",
    "Write a program to add item 7000 after 6000 in the following Python List\n",
    "\n",
    "list1 = [10, 20, [300, 400, [5000, 6000], 500], 30, 40]\n",
    "\n",
    "ouput: [10, 20, [300, 400, [5000, 6000, 7000], 500], 30, 40]"
   ]
  },
  {
   "cell_type": "code",
   "execution_count": 76,
   "id": "0fe054df",
   "metadata": {},
   "outputs": [
    {
     "name": "stdout",
     "output_type": "stream",
     "text": [
      "[10, 20, [300, 400, [5000, 6000, 7000], 500], 30, 40]\n"
     ]
    }
   ],
   "source": [
    "list1 = [10, 20, [300, 400, [5000, 6000], 500], 30, 40]\n",
    "\n",
    "list1[2][2].append(7000)\n",
    "\n",
    "print(list1)"
   ]
  },
  {
   "cell_type": "markdown",
   "id": "690ba0d4",
   "metadata": {},
   "source": [
    "#### Que. 3: Update no of items available\n",
    "Suppose you are given a list of candy and another list of same size representing no of items of respective candy.\n",
    "\n",
    "i.e -\n",
    "\n",
    "candy_list = ['Jelly Belly','Kit Kat','Double Bubble','Milky Way','Three Musketeers']\n",
    "no_of_items = [10,20,34,74,32]\n",
    "\n",
    "Write a program to show no. of items of each candy type."
   ]
  },
  {
   "cell_type": "code",
   "execution_count": 81,
   "id": "190873c3",
   "metadata": {},
   "outputs": [
    {
     "name": "stdout",
     "output_type": "stream",
     "text": [
      "Jelly Belly - 10\n",
      "Kit Kat - 20\n",
      "Double Bubble - 34\n",
      "Milky Way - 74\n",
      "Three Musketeers - 32\n"
     ]
    }
   ],
   "source": [
    "candy_list = ['Jelly Belly','Kit Kat','Double Bubble','Milky Way','Three Musketeers'] \n",
    "no_of_items = [10,20,34,74,32]\n",
    "\n",
    "for i, j in zip(candy_list, no_of_items):\n",
    "    print(i, '-', j, end=\"\\n\")"
   ]
  },
  {
   "cell_type": "markdown",
   "id": "abd9dab1",
   "metadata": {},
   "source": [
    "#### Que.4:  Running Sum on list\n",
    "Write a program to print a list after performing running sum on it.\n",
    "\n",
    "i.e:\n",
    "\n",
    "Input:\n",
    "\n",
    "list1 = [1,2,3,4,5,6]\n",
    "\n",
    "Output:\n",
    "\n",
    "[1,3,6,10,15,21]"
   ]
  },
  {
   "cell_type": "code",
   "execution_count": 82,
   "id": "0b7cd8af",
   "metadata": {},
   "outputs": [
    {
     "name": "stdout",
     "output_type": "stream",
     "text": [
      "[1, 3, 6, 10, 15, 21]\n"
     ]
    }
   ],
   "source": [
    "def running_sum(l):\n",
    "    res = []\n",
    "    sum = 0\n",
    "    \n",
    "    for i in l:\n",
    "        sum += i \n",
    "        res.append(sum) \n",
    "        \n",
    "    return res \n",
    "\n",
    "print(running_sum([1,2,3,4,5,6]))"
   ]
  },
  {
   "cell_type": "markdown",
   "id": "b8010f88",
   "metadata": {},
   "source": [
    "#### Que.5: You are given a list of integers. You are asked to make a list by running through elements of the list by adding all elements greater and itself.\n",
    "i.e. Say given list is [2,4,6,10,1] resultant list will be [22,20,10,23].\n",
    "\n",
    "For 1st element 2 ->> these are greater (4+6+10) values and 2 itself so on adding becomes 22.\n",
    "\n",
    "For 2nd element 4 ->> greater elements are (6, 10) and 4 itself, so on adding 20\n",
    "\n",
    "like wise for all other elememts.\n",
    "\n",
    "[2,4,6,10,1]-->[22,20,16,10,23]"
   ]
  },
  {
   "cell_type": "code",
   "execution_count": 106,
   "id": "200c1589",
   "metadata": {},
   "outputs": [
    {
     "name": "stdout",
     "output_type": "stream",
     "text": [
      "[22, 20, 16, 10, 23]\n"
     ]
    }
   ],
   "source": [
    "def find_running_sum(l):\n",
    "    res = [] \n",
    "    for i in range(len(l)):\n",
    "        greater_sum = 0\n",
    "        for j in range(len(l)):\n",
    "            if l[j] > l[i]:\n",
    "                greater_sum += l[j]\n",
    "        res.append(l[i] + greater_sum)\n",
    "    \n",
    "    return res\n",
    "    \n",
    "print(find_running_sum([2, 4, 6, 10, 1]))"
   ]
  },
  {
   "cell_type": "markdown",
   "id": "8eb327b5",
   "metadata": {},
   "source": [
    "#### Que.6: Find list of common unique items from two list and show in increasing order\n",
    "Input\n",
    "\n",
    "num1 = [23,45,67,78,89,34]\n",
    "\n",
    "num2 = [34,89,55,56,39,67]\n",
    "\n",
    "Output:\n",
    "\n",
    "[34, 67, 89]"
   ]
  },
  {
   "cell_type": "code",
   "execution_count": 113,
   "id": "94d8cb76",
   "metadata": {},
   "outputs": [
    {
     "name": "stdout",
     "output_type": "stream",
     "text": [
      "[34, 67, 89]\n"
     ]
    }
   ],
   "source": [
    "def find_common_unique(l1, l2):\n",
    "    l1 = set(l1)\n",
    "    l2 = set(l2)\n",
    "    \n",
    "    res = l1.intersection(l2)\n",
    "    return sorted(res) \n",
    "\n",
    "num1 = [23,45,67,78,89,34]\n",
    "num2 = [34,89,55,56,39,67]\n",
    "print(find_common_unique(num1,num2))"
   ]
  },
  {
   "cell_type": "markdown",
   "id": "f18d7014",
   "metadata": {},
   "source": [
    "#### Que. 7:  Sort a list of alphanumeric strings based on product value of numeric character in it. If in any string there is no numeric character take it's product value as 1.\n",
    "Input:\n",
    "\n",
    "['1ac21', '23fg', '456', '098d','1','kls']\n",
    "\n",
    "Output:\n",
    "\n",
    "['456', '23fg', '1ac21', '1', 'kls', '098d']"
   ]
  },
  {
   "cell_type": "markdown",
   "id": "c7f2a1f7",
   "metadata": {},
   "source": [
    "#### Que.8: Write a list comprehension that can flatten a nested list\n",
    "Input\n",
    "matrix = [\n",
    "[1,2,3],\n",
    "[4,5,6],\n",
    "[7,8,9]\n",
    "]\n",
    "\n",
    "Output:\n",
    "[1, 2, 3, 4, 5, 6, 7, 8, 9]"
   ]
  },
  {
   "cell_type": "code",
   "execution_count": 114,
   "id": "dff00b7e",
   "metadata": {},
   "outputs": [
    {
     "name": "stdout",
     "output_type": "stream",
     "text": [
      "[1, 2, 3, 4, 5, 6, 7, 8, 9]\n"
     ]
    }
   ],
   "source": [
    "def flatten_list(l):\n",
    "    return [element for sublist in l for element in sublist] \n",
    "\n",
    "print(flatten_list([ [1,2,3], [4,5,6], [7,8,9] ]))"
   ]
  },
  {
   "cell_type": "markdown",
   "id": "19645526",
   "metadata": {},
   "source": [
    "#### Que.9: Write a list comprehension that can transpose a given matrix\n",
    "matrix = \n",
    "\n",
    "[[1,2,3],\n",
    "\n",
    "[4,5,6],\n",
    "\n",
    "[7,8,9]]\n",
    "\n",
    "Ouput:\n",
    "\n",
    "[[1, 4, 7]\n",
    "\n",
    "[2, 5, 8]\n",
    "\n",
    "[3, 6, 9]] "
   ]
  },
  {
   "cell_type": "code",
   "execution_count": 124,
   "id": "aa582852",
   "metadata": {},
   "outputs": [
    {
     "name": "stdout",
     "output_type": "stream",
     "text": [
      "[[1, 4, 7], [2, 5, 8], [3, 6, 9]]\n"
     ]
    }
   ],
   "source": [
    "matrix = [[1,2,3],\n",
    "\n",
    "[4,5,6],\n",
    "\n",
    "[7,8,9]]\n",
    "\n",
    "def transpose_matrix(matrix):\n",
    "    # using list comprehension \n",
    "    # return [[matrix[j][i] for j in range(len(matrix))] for i in range(len(matrix[0]))]\n",
    "    \n",
    "    # general approach \n",
    "    transpose = [] \n",
    "    for j in range(len(matrix[0])):\n",
    "        # first transpose the columns into rows and then append \n",
    "        transpose_row = []\n",
    "        for i in range(len(matrix)):\n",
    "            transpose_row.append(matrix[i][j]) \n",
    "            \n",
    "        transpose.append(transpose_row)\n",
    "        \n",
    "    return transpose\n",
    "\n",
    "print(transpose_matrix(matrix))"
   ]
  },
  {
   "cell_type": "markdown",
   "id": "d7c96fa6",
   "metadata": {},
   "source": [
    "#### Que.10: Write a list comprehension to print the following matrix\n",
    "[[0, 1, 2], [3, 4, 5], [6, 7, 8]]"
   ]
  },
  {
   "cell_type": "code",
   "execution_count": 130,
   "id": "501968b7",
   "metadata": {},
   "outputs": [
    {
     "data": {
      "text/plain": [
       "[[0, 1, 2], [3, 4, 5], [6, 7, 8]]"
      ]
     },
     "execution_count": 130,
     "metadata": {},
     "output_type": "execute_result"
    }
   ],
   "source": [
    "matrix = [[i+j for j in range(3)] for i in range(0, 9, 3)]\n",
    "matrix"
   ]
  },
  {
   "cell_type": "code",
   "execution_count": null,
   "id": "7df7607e",
   "metadata": {},
   "outputs": [],
   "source": []
  }
 ],
 "metadata": {
  "kernelspec": {
   "display_name": "Python 3 (ipykernel)",
   "language": "python",
   "name": "python3"
  },
  "language_info": {
   "codemirror_mode": {
    "name": "ipython",
    "version": 3
   },
   "file_extension": ".py",
   "mimetype": "text/x-python",
   "name": "python",
   "nbconvert_exporter": "python",
   "pygments_lexer": "ipython3",
   "version": "3.10.4"
  }
 },
 "nbformat": 4,
 "nbformat_minor": 5
}
